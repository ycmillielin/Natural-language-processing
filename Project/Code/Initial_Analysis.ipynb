{
 "cells": [
  {
   "cell_type": "code",
   "execution_count": 1,
   "id": "d779e593",
   "metadata": {},
   "outputs": [],
   "source": [
    "import json\n",
    "import numpy as np\n",
    "import pandas as pd\n",
    "import matplotlib.pyplot as plt\n",
    "import unidecode\n",
    "import re"
   ]
  },
  {
   "cell_type": "code",
   "execution_count": 2,
   "id": "06c4b422",
   "metadata": {},
   "outputs": [
    {
     "data": {
      "text/html": [
       "<div>\n",
       "<style scoped>\n",
       "    .dataframe tbody tr th:only-of-type {\n",
       "        vertical-align: middle;\n",
       "    }\n",
       "\n",
       "    .dataframe tbody tr th {\n",
       "        vertical-align: top;\n",
       "    }\n",
       "\n",
       "    .dataframe thead th {\n",
       "        text-align: right;\n",
       "    }\n",
       "</style>\n",
       "<table border=\"1\" class=\"dataframe\">\n",
       "  <thead>\n",
       "    <tr style=\"text-align: right;\">\n",
       "      <th></th>\n",
       "      <th>podcast_id</th>\n",
       "      <th>title</th>\n",
       "      <th>content</th>\n",
       "      <th>rating</th>\n",
       "      <th>author_id</th>\n",
       "      <th>created_at</th>\n",
       "      <th>itunes_id</th>\n",
       "      <th>slug</th>\n",
       "      <th>itunes_url</th>\n",
       "      <th>podcast_title</th>\n",
       "      <th>category</th>\n",
       "    </tr>\n",
       "  </thead>\n",
       "  <tbody>\n",
       "    <tr>\n",
       "      <th>0</th>\n",
       "      <td>b313ef8ef0d5b64290d3036ff1bbf2d2</td>\n",
       "      <td>감성 라디오 음악도시</td>\n",
       "      <td>미국 서부에 있는 유학생이에요. 성시경씨 제대 후 라디오 복귀만 기다려오다가 6 월...</td>\n",
       "      <td>5</td>\n",
       "      <td>664CCA7142E9AE8</td>\n",
       "      <td>2011-09-14T13:25:46-07:00</td>\n",
       "      <td>442838670</td>\n",
       "      <td>fm-%EC%9D%8C%EC%95%85%EB%8F%84%EC%8B%9C-%EC%A2...</td>\n",
       "      <td>https://podcasts.apple.com/us/podcast/fm-%EC%9...</td>\n",
       "      <td>FM 음악도시(종영)</td>\n",
       "      <td>music</td>\n",
       "    </tr>\n",
       "    <tr>\n",
       "      <th>1</th>\n",
       "      <td>abfb842993be20d21bfae7103addc5e9</td>\n",
       "      <td>They’ve really cut back on the content this se...</td>\n",
       "      <td>Last season there was a new pod every 3-4 days...</td>\n",
       "      <td>1</td>\n",
       "      <td>AD790CE113DCBC1</td>\n",
       "      <td>2018-04-11T13:46:47-07:00</td>\n",
       "      <td>1015394113</td>\n",
       "      <td>the-good-phight-for-philadelphia-phillies-fans</td>\n",
       "      <td>https://podcasts.apple.com/us/podcast/the-good...</td>\n",
       "      <td>The Good Phight: for Philadelphia Phillies fans</td>\n",
       "      <td>sports</td>\n",
       "    </tr>\n",
       "    <tr>\n",
       "      <th>2</th>\n",
       "      <td>ebdf879a424547d01862a9bbba18a0f3</td>\n",
       "      <td>Good info. source...</td>\n",
       "      <td>Bob brings a lot of knowledge to any firearm d...</td>\n",
       "      <td>4</td>\n",
       "      <td>E223A4B2642C970</td>\n",
       "      <td>2010-01-19T08:11:43-07:00</td>\n",
       "      <td>333180229</td>\n",
       "      <td>handgun-world-podcast</td>\n",
       "      <td>https://podcasts.apple.com/us/podcast/handgun-...</td>\n",
       "      <td>Handgun World Podcast</td>\n",
       "      <td>news</td>\n",
       "    </tr>\n",
       "  </tbody>\n",
       "</table>\n",
       "</div>"
      ],
      "text/plain": [
       "                         podcast_id  \\\n",
       "0  b313ef8ef0d5b64290d3036ff1bbf2d2   \n",
       "1  abfb842993be20d21bfae7103addc5e9   \n",
       "2  ebdf879a424547d01862a9bbba18a0f3   \n",
       "\n",
       "                                               title  \\\n",
       "0                                        감성 라디오 음악도시   \n",
       "1  They’ve really cut back on the content this se...   \n",
       "2                               Good info. source...   \n",
       "\n",
       "                                             content  rating        author_id  \\\n",
       "0  미국 서부에 있는 유학생이에요. 성시경씨 제대 후 라디오 복귀만 기다려오다가 6 월...       5  664CCA7142E9AE8   \n",
       "1  Last season there was a new pod every 3-4 days...       1  AD790CE113DCBC1   \n",
       "2  Bob brings a lot of knowledge to any firearm d...       4  E223A4B2642C970   \n",
       "\n",
       "                  created_at   itunes_id  \\\n",
       "0  2011-09-14T13:25:46-07:00   442838670   \n",
       "1  2018-04-11T13:46:47-07:00  1015394113   \n",
       "2  2010-01-19T08:11:43-07:00   333180229   \n",
       "\n",
       "                                                slug  \\\n",
       "0  fm-%EC%9D%8C%EC%95%85%EB%8F%84%EC%8B%9C-%EC%A2...   \n",
       "1     the-good-phight-for-philadelphia-phillies-fans   \n",
       "2                              handgun-world-podcast   \n",
       "\n",
       "                                          itunes_url  \\\n",
       "0  https://podcasts.apple.com/us/podcast/fm-%EC%9...   \n",
       "1  https://podcasts.apple.com/us/podcast/the-good...   \n",
       "2  https://podcasts.apple.com/us/podcast/handgun-...   \n",
       "\n",
       "                                     podcast_title category  \n",
       "0                                      FM 음악도시(종영)    music  \n",
       "1  The Good Phight: for Philadelphia Phillies fans   sports  \n",
       "2                            Handgun World Podcast     news  "
      ]
     },
     "execution_count": 2,
     "metadata": {},
     "output_type": "execute_result"
    }
   ],
   "source": [
    "df = pd.read_csv('podcast_sample_new.csv', lineterminator='\\n', index_col = 0)\n",
    "df.head(3)"
   ]
  },
  {
   "cell_type": "code",
   "execution_count": 7,
   "id": "0e8e255a",
   "metadata": {},
   "outputs": [
    {
     "name": "stdout",
     "output_type": "stream",
     "text": [
      "Total Number of Podcasts: 15073\n",
      "Total Number of Reviews: 50000\n"
     ]
    }
   ],
   "source": [
    "total_number_podcast = len(df.podcast_id.unique())\n",
    "total_number_reviews = len(df.podcast_id)\n",
    "print('Total Number of Podcasts: ' + str(total_number_podcast))\n",
    "print('Total Number of Reviews: ' + str(total_number_reviews))"
   ]
  },
  {
   "cell_type": "code",
   "execution_count": 9,
   "id": "77b4e25a",
   "metadata": {},
   "outputs": [
    {
     "data": {
      "text/plain": [
       "comedy        8019\n",
       "society       6445\n",
       "news          5206\n",
       "business      3783\n",
       "sports        3589\n",
       "arts          3181\n",
       "education     2988\n",
       "crime         2521\n",
       "health        2353\n",
       "tv            2177\n",
       "religion      2093\n",
       "leisure       1726\n",
       "history       1417\n",
       "kids          1224\n",
       "music          891\n",
       "science        820\n",
       "fiction        776\n",
       "government     413\n",
       "technology     378\n",
       "Name: category, dtype: int64"
      ]
     },
     "execution_count": 9,
     "metadata": {},
     "output_type": "execute_result"
    }
   ],
   "source": [
    "# reviews categorized by podcast categories\n",
    "df['category'].value_counts()"
   ]
  },
  {
   "cell_type": "code",
   "execution_count": 77,
   "id": "f50551ef",
   "metadata": {},
   "outputs": [
    {
     "data": {
      "text/plain": [
       "comedy        0.16038\n",
       "society       0.12890\n",
       "news          0.10412\n",
       "business      0.07566\n",
       "sports        0.07178\n",
       "arts          0.06362\n",
       "education     0.05976\n",
       "crime         0.05042\n",
       "health        0.04706\n",
       "tv            0.04354\n",
       "religion      0.04186\n",
       "leisure       0.03452\n",
       "history       0.02834\n",
       "kids          0.02448\n",
       "music         0.01782\n",
       "science       0.01640\n",
       "fiction       0.01552\n",
       "government    0.00826\n",
       "technology    0.00756\n",
       "Name: category, dtype: float64"
      ]
     },
     "execution_count": 77,
     "metadata": {},
     "output_type": "execute_result"
    }
   ],
   "source": [
    "# percentage of each category\n",
    "df['category'].value_counts()/len(df)"
   ]
  },
  {
   "cell_type": "code",
   "execution_count": 12,
   "id": "3366e59d",
   "metadata": {},
   "outputs": [
    {
     "data": {
      "text/plain": [
       "Text(0.5, 1.05, 'Fig. 1: Number of Reviews Per Genre')"
      ]
     },
     "execution_count": 12,
     "metadata": {},
     "output_type": "execute_result"
    },
    {
     "data": {
      "image/png": "[encoded data removed]",
      "text/plain": [
       "<Figure size 720x576 with 1 Axes>"
      ]
     },
     "metadata": {},
     "output_type": "display_data"
    }
   ],
   "source": [
    "df['category'].value_counts().plot(kind='barh', figsize=(10, 8))\n",
    "plt.xlabel(\"# of Reviews\", labelpad=14)\n",
    "plt.ylabel(\"Category\", labelpad=14)\n",
    "plt.style.use('fivethirtyeight')\n",
    "plt.title(\"Fig. 1: Number of Reviews Per Genre\", y=1.05)"
   ]
  },
  {
   "cell_type": "code",
   "execution_count": 13,
   "id": "7abf46f8",
   "metadata": {},
   "outputs": [
    {
     "data": {
      "text/html": [
       "<div>\n",
       "<style scoped>\n",
       "    .dataframe tbody tr th:only-of-type {\n",
       "        vertical-align: middle;\n",
       "    }\n",
       "\n",
       "    .dataframe tbody tr th {\n",
       "        vertical-align: top;\n",
       "    }\n",
       "\n",
       "    .dataframe thead th {\n",
       "        text-align: right;\n",
       "    }\n",
       "</style>\n",
       "<table border=\"1\" class=\"dataframe\">\n",
       "  <thead>\n",
       "    <tr style=\"text-align: right;\">\n",
       "      <th></th>\n",
       "      <th>rating</th>\n",
       "    </tr>\n",
       "    <tr>\n",
       "      <th>category</th>\n",
       "      <th></th>\n",
       "    </tr>\n",
       "  </thead>\n",
       "  <tbody>\n",
       "    <tr>\n",
       "      <th>arts</th>\n",
       "      <td>3.711097</td>\n",
       "    </tr>\n",
       "    <tr>\n",
       "      <th>business</th>\n",
       "      <td>4.068993</td>\n",
       "    </tr>\n",
       "    <tr>\n",
       "      <th>comedy</th>\n",
       "      <td>3.388203</td>\n",
       "    </tr>\n",
       "    <tr>\n",
       "      <th>crime</th>\n",
       "      <td>2.813169</td>\n",
       "    </tr>\n",
       "    <tr>\n",
       "      <th>education</th>\n",
       "      <td>3.975234</td>\n",
       "    </tr>\n",
       "    <tr>\n",
       "      <th>fiction</th>\n",
       "      <td>3.364691</td>\n",
       "    </tr>\n",
       "    <tr>\n",
       "      <th>government</th>\n",
       "      <td>3.092010</td>\n",
       "    </tr>\n",
       "    <tr>\n",
       "      <th>health</th>\n",
       "      <td>3.984275</td>\n",
       "    </tr>\n",
       "    <tr>\n",
       "      <th>history</th>\n",
       "      <td>3.199012</td>\n",
       "    </tr>\n",
       "    <tr>\n",
       "      <th>kids</th>\n",
       "      <td>3.692810</td>\n",
       "    </tr>\n",
       "    <tr>\n",
       "      <th>leisure</th>\n",
       "      <td>3.769988</td>\n",
       "    </tr>\n",
       "    <tr>\n",
       "      <th>music</th>\n",
       "      <td>3.969697</td>\n",
       "    </tr>\n",
       "    <tr>\n",
       "      <th>news</th>\n",
       "      <td>2.781598</td>\n",
       "    </tr>\n",
       "    <tr>\n",
       "      <th>religion</th>\n",
       "      <td>3.931677</td>\n",
       "    </tr>\n",
       "    <tr>\n",
       "      <th>science</th>\n",
       "      <td>3.041463</td>\n",
       "    </tr>\n",
       "    <tr>\n",
       "      <th>society</th>\n",
       "      <td>3.115438</td>\n",
       "    </tr>\n",
       "    <tr>\n",
       "      <th>sports</th>\n",
       "      <td>3.389245</td>\n",
       "    </tr>\n",
       "    <tr>\n",
       "      <th>technology</th>\n",
       "      <td>3.415344</td>\n",
       "    </tr>\n",
       "    <tr>\n",
       "      <th>tv</th>\n",
       "      <td>3.338539</td>\n",
       "    </tr>\n",
       "  </tbody>\n",
       "</table>\n",
       "</div>"
      ],
      "text/plain": [
       "              rating\n",
       "category            \n",
       "arts        3.711097\n",
       "business    4.068993\n",
       "comedy      3.388203\n",
       "crime       2.813169\n",
       "education   3.975234\n",
       "fiction     3.364691\n",
       "government  3.092010\n",
       "health      3.984275\n",
       "history     3.199012\n",
       "kids        3.692810\n",
       "leisure     3.769988\n",
       "music       3.969697\n",
       "news        2.781598\n",
       "religion    3.931677\n",
       "science     3.041463\n",
       "society     3.115438\n",
       "sports      3.389245\n",
       "technology  3.415344\n",
       "tv          3.338539"
      ]
     },
     "execution_count": 13,
     "metadata": {},
     "output_type": "execute_result"
    }
   ],
   "source": [
    "# average rating of each category\n",
    "genre = df[['category', 'rating']]\n",
    "genre.groupby('category').mean()"
   ]
  },
  {
   "cell_type": "code",
   "execution_count": 17,
   "id": "2952cd5a",
   "metadata": {},
   "outputs": [
    {
     "data": {
      "text/plain": [
       "Text(0.5, 1.05, 'Fig. 2: Average Rating Per Genre')"
      ]
     },
     "execution_count": 17,
     "metadata": {},
     "output_type": "execute_result"
    },
    {
     "data": {
      "image/png": "[encoded data removed]",
      "text/plain": [
       "<Figure size 720x576 with 1 Axes>"
      ]
     },
     "metadata": {},
     "output_type": "display_data"
    }
   ],
   "source": [
    "genre.groupby('category').mean().plot(kind='bar', figsize=(10, 8))\n",
    "plt.xlabel(\"Category\", labelpad=14)\n",
    "plt.ylabel(\"Average Rating\", labelpad=14)\n",
    "plt.style.use('fivethirtyeight')\n",
    "plt.title(\"Fig. 2: Average Rating Per Genre\", y=1.05)"
   ]
  },
  {
   "cell_type": "markdown",
   "id": "22668c07",
   "metadata": {},
   "source": [
    "### Positive/Negative Reviews"
   ]
  },
  {
   "cell_type": "code",
   "execution_count": 74,
   "id": "bdb77ad0",
   "metadata": {},
   "outputs": [
    {
     "name": "stdout",
     "output_type": "stream",
     "text": [
      "The shape of pos: (28249, 11), the shape of neg: (21751, 11)\n"
     ]
    }
   ],
   "source": [
    "# The shape of positive/negative reviews\n",
    "pos = df[df['rating']>=4]\n",
    "neg = df[df['rating']<4]\n",
    "print(f'The shape of pos: {pos.shape}, the shape of neg: {neg.shape}')"
   ]
  },
  {
   "cell_type": "code",
   "execution_count": 75,
   "id": "cb76d2fb",
   "metadata": {},
   "outputs": [
    {
     "name": "stdout",
     "output_type": "stream",
     "text": [
      "0.56498\n",
      "0.43502\n"
     ]
    }
   ],
   "source": [
    "# The percentage of positive/negative reviews\n",
    "print(len(pos)/len(df))\n",
    "print(len(neg)/len(df))"
   ]
  },
  {
   "cell_type": "code",
   "execution_count": 76,
   "id": "29fa9a3d",
   "metadata": {},
   "outputs": [
    {
     "data": {
      "text/plain": [
       "(50000, 11)"
      ]
     },
     "execution_count": 76,
     "metadata": {},
     "output_type": "execute_result"
    }
   ],
   "source": [
    "# The shape of whole dataset\n",
    "df.shape"
   ]
  },
  {
   "cell_type": "markdown",
   "id": "9a4f6a71",
   "metadata": {},
   "source": [
    "### Merge catgories for better analysis"
   ]
  },
  {
   "cell_type": "code",
   "execution_count": 81,
   "id": "7b656ff9",
   "metadata": {},
   "outputs": [],
   "source": [
    "import re\n",
    "def replace_cat(line):\n",
    "    line = re.sub(r'\\b(society|religion|government|history|education|kids)\\b', 'society', line)\n",
    "    line = re.sub(r'\\b(tv|leisure|sports|music|fiction|arts)\\b', 'entertainment', line)\n",
    "    line = re.sub(r'\\b(science|technology|health|crime)\\b', 'others', line)\n",
    "    return line"
   ]
  },
  {
   "cell_type": "code",
   "execution_count": 82,
   "id": "9ba6f307",
   "metadata": {},
   "outputs": [],
   "source": [
    "df['category_new'] = df['category'].apply(lambda x: replace_cat(x))"
   ]
  },
  {
   "cell_type": "code",
   "execution_count": 83,
   "id": "fa273ab5",
   "metadata": {},
   "outputs": [
    {
     "data": {
      "text/html": [
       "<div>\n",
       "<style scoped>\n",
       "    .dataframe tbody tr th:only-of-type {\n",
       "        vertical-align: middle;\n",
       "    }\n",
       "\n",
       "    .dataframe tbody tr th {\n",
       "        vertical-align: top;\n",
       "    }\n",
       "\n",
       "    .dataframe thead th {\n",
       "        text-align: right;\n",
       "    }\n",
       "</style>\n",
       "<table border=\"1\" class=\"dataframe\">\n",
       "  <thead>\n",
       "    <tr style=\"text-align: right;\">\n",
       "      <th></th>\n",
       "      <th>rating</th>\n",
       "    </tr>\n",
       "    <tr>\n",
       "      <th>category_new</th>\n",
       "      <th></th>\n",
       "    </tr>\n",
       "  </thead>\n",
       "  <tbody>\n",
       "    <tr>\n",
       "      <th>business</th>\n",
       "      <td>4.068993</td>\n",
       "    </tr>\n",
       "    <tr>\n",
       "      <th>comedy</th>\n",
       "      <td>3.388203</td>\n",
       "    </tr>\n",
       "    <tr>\n",
       "      <th>entertainment</th>\n",
       "      <td>3.556888</td>\n",
       "    </tr>\n",
       "    <tr>\n",
       "      <th>news</th>\n",
       "      <td>2.781598</td>\n",
       "    </tr>\n",
       "    <tr>\n",
       "      <th>others</th>\n",
       "      <td>3.335310</td>\n",
       "    </tr>\n",
       "    <tr>\n",
       "      <th>society</th>\n",
       "      <td>3.464746</td>\n",
       "    </tr>\n",
       "  </tbody>\n",
       "</table>\n",
       "</div>"
      ],
      "text/plain": [
       "                 rating\n",
       "category_new           \n",
       "business       4.068993\n",
       "comedy         3.388203\n",
       "entertainment  3.556888\n",
       "news           2.781598\n",
       "others         3.335310\n",
       "society        3.464746"
      ]
     },
     "execution_count": 83,
     "metadata": {},
     "output_type": "execute_result"
    }
   ],
   "source": [
    "# The average rating of each category\n",
    "genre = df[['category_new', 'rating']]\n",
    "genre.groupby('category_new').mean()"
   ]
  },
  {
   "cell_type": "code",
   "execution_count": 84,
   "id": "90b0671d",
   "metadata": {},
   "outputs": [
    {
     "data": {
      "text/plain": [
       "society          0.29160\n",
       "entertainment    0.24680\n",
       "comedy           0.16038\n",
       "others           0.12144\n",
       "news             0.10412\n",
       "business         0.07566\n",
       "Name: category_new, dtype: float64"
      ]
     },
     "execution_count": 84,
     "metadata": {},
     "output_type": "execute_result"
    }
   ],
   "source": [
    "# The percentage of each category \n",
    "df['category_new'].value_counts()/len(df)"
   ]
  },
  {
   "cell_type": "code",
   "execution_count": null,
   "id": "4e03af71",
   "metadata": {},
   "outputs": [],
   "source": []
  }
 ],
 "metadata": {
  "kernelspec": {
   "display_name": "Python 3 (ipykernel)",
   "language": "python",
   "name": "python3"
  },
  "language_info": {
   "codemirror_mode": {
    "name": "ipython",
    "version": 3
   },
   "file_extension": ".py",
   "mimetype": "text/x-python",
   "name": "python",
   "nbconvert_exporter": "python",
   "pygments_lexer": "ipython3",
   "version": "3.9.12"
  }
 },
 "nbformat": 4,
 "nbformat_minor": 5
}
