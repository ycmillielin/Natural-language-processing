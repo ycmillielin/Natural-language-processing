{
 "cells": [
  {
   "cell_type": "code",
   "execution_count": 38,
   "id": "a4628bd1",
   "metadata": {},
   "outputs": [],
   "source": [
    "import sqlite3\n",
    "import numpy as np\n",
    "import pandas as pd\n",
    "import tensorflow as tf\n",
    "import re"
   ]
  },
  {
   "cell_type": "code",
   "execution_count": 39,
   "id": "bdd81565",
   "metadata": {},
   "outputs": [],
   "source": [
    "# Read sqlite query results into a pandas DataFrame\n",
    "con = sqlite3.connect(\"database.sqlite\")\n",
    "reviews = pd.read_sql_query(\"SELECT * from reviews\", con)\n",
    "\n",
    "podcasts = pd.read_sql_query(\"SELECT * from podcasts\", con)\n",
    "podcasts.rename(columns={'title': 'podcast_title'}, inplace = True)\n",
    "\n",
    "categories = pd.read_sql_query(\"SELECT * from categories\", con)"
   ]
  },
  {
   "cell_type": "code",
   "execution_count": 40,
   "id": "5ee43270",
   "metadata": {},
   "outputs": [],
   "source": [
    "# Deal with multiple categories problem\n",
    "def get_main_cat(line):\n",
    "    line = line.replace(line, re.findall(r'\\b([a-zA-Z]+)\\b', line)[0])\n",
    "    \n",
    "    return line"
   ]
  },
  {
   "cell_type": "code",
   "execution_count": 41,
   "id": "ca7c39e8",
   "metadata": {},
   "outputs": [],
   "source": [
    "categories['category'] = categories['category'].apply(lambda x: get_main_cat(x))"
   ]
  },
  {
   "cell_type": "code",
   "execution_count": 42,
   "id": "ea3c8b60",
   "metadata": {},
   "outputs": [
    {
     "data": {
      "text/plain": [
       "array(['arts', 'music', 'education', 'society', 'leisure', 'technology',\n",
       "       'fiction', 'true', 'health', 'history', 'comedy', 'tv', 'kids',\n",
       "       'religion', 'business', 'news', 'spirituality', 'science',\n",
       "       'christianity', 'government', 'sports', 'hinduism', 'judaism',\n",
       "       'islam', 'buddhism'], dtype=object)"
      ]
     },
     "execution_count": 42,
     "metadata": {},
     "output_type": "execute_result"
    }
   ],
   "source": [
    "categories['category'].unique()"
   ]
  },
  {
   "cell_type": "code",
   "execution_count": 43,
   "id": "431cb486",
   "metadata": {},
   "outputs": [],
   "source": [
    "def replace_cat(line):\n",
    "    line = re.sub(r'\\b(true)\\b', 'crime', line)\n",
    "    line = re.sub(r'\\b(christianity|hinduism|judaism|islam|buddhism|spirituality)\\b', 'religion', line)\n",
    "    return line"
   ]
  },
  {
   "cell_type": "code",
   "execution_count": 44,
   "id": "b2402737",
   "metadata": {},
   "outputs": [
    {
     "data": {
      "text/html": [
       "<div>\n",
       "<style scoped>\n",
       "    .dataframe tbody tr th:only-of-type {\n",
       "        vertical-align: middle;\n",
       "    }\n",
       "\n",
       "    .dataframe tbody tr th {\n",
       "        vertical-align: top;\n",
       "    }\n",
       "\n",
       "    .dataframe thead th {\n",
       "        text-align: right;\n",
       "    }\n",
       "</style>\n",
       "<table border=\"1\" class=\"dataframe\">\n",
       "  <thead>\n",
       "    <tr style=\"text-align: right;\">\n",
       "      <th></th>\n",
       "      <th>podcast_id</th>\n",
       "      <th>category</th>\n",
       "    </tr>\n",
       "  </thead>\n",
       "  <tbody>\n",
       "    <tr>\n",
       "      <th>0</th>\n",
       "      <td>c61aa81c9b929a66f0c1db6cbe5d8548</td>\n",
       "      <td>arts</td>\n",
       "    </tr>\n",
       "    <tr>\n",
       "      <th>3</th>\n",
       "      <td>ad4f2bf69c72b8db75978423c25f379e</td>\n",
       "      <td>arts</td>\n",
       "    </tr>\n",
       "    <tr>\n",
       "      <th>7</th>\n",
       "      <td>f2970432aad718a000ebac10e48ae6b0</td>\n",
       "      <td>arts</td>\n",
       "    </tr>\n",
       "    <tr>\n",
       "      <th>10</th>\n",
       "      <td>f90b974d49b86b2d4d1769519fb478c0</td>\n",
       "      <td>arts</td>\n",
       "    </tr>\n",
       "    <tr>\n",
       "      <th>14</th>\n",
       "      <td>d9122defb9898145688449f610c8943e</td>\n",
       "      <td>arts</td>\n",
       "    </tr>\n",
       "  </tbody>\n",
       "</table>\n",
       "</div>"
      ],
      "text/plain": [
       "                          podcast_id category\n",
       "0   c61aa81c9b929a66f0c1db6cbe5d8548     arts\n",
       "3   ad4f2bf69c72b8db75978423c25f379e     arts\n",
       "7   f2970432aad718a000ebac10e48ae6b0     arts\n",
       "10  f90b974d49b86b2d4d1769519fb478c0     arts\n",
       "14  d9122defb9898145688449f610c8943e     arts"
      ]
     },
     "execution_count": 44,
     "metadata": {},
     "output_type": "execute_result"
    }
   ],
   "source": [
    "categories['category'] = categories['category'].apply(lambda x: replace_cat(x))\n",
    "categories.drop_duplicates(subset='podcast_id', keep=\"first\", inplace = True)\n",
    "categories.head()"
   ]
  },
  {
   "cell_type": "code",
   "execution_count": 45,
   "id": "b59f6c09",
   "metadata": {},
   "outputs": [
    {
     "data": {
      "text/plain": [
       "(1979519, 11)"
      ]
     },
     "execution_count": 45,
     "metadata": {},
     "output_type": "execute_result"
    }
   ],
   "source": [
    "df = pd.merge(reviews, podcasts, on=['podcast_id'], how = 'inner')\n",
    "df = pd.merge(df, categories, on=['podcast_id'], how = 'inner')\n",
    "df.shape"
   ]
  },
  {
   "cell_type": "code",
   "execution_count": null,
   "id": "292affc6",
   "metadata": {},
   "outputs": [],
   "source": [
    "# sample"
   ]
  },
  {
   "cell_type": "code",
   "execution_count": 73,
   "id": "efaeefb9",
   "metadata": {},
   "outputs": [
    {
     "name": "stdout",
     "output_type": "stream",
     "text": [
      "(110013, 11)\n",
      "(43213, 11)\n",
      "(49215, 11)\n",
      "(59665, 11)\n",
      "(1717413, 11)\n"
     ]
    }
   ],
   "source": [
    "print(df[df['rating'] == 1].shape)\n",
    "print(df[df['rating'] == 2].shape)\n",
    "print(df[df['rating'] == 3].shape)\n",
    "print(df[df['rating'] == 4].shape)\n",
    "print(df[df['rating'] == 5].shape)"
   ]
  },
  {
   "cell_type": "code",
   "execution_count": 62,
   "id": "5f0d8263",
   "metadata": {},
   "outputs": [],
   "source": [
    "df_5 = df[df['rating'] == 5].sample(200000)"
   ]
  },
  {
   "cell_type": "code",
   "execution_count": 64,
   "id": "0d4c846b",
   "metadata": {},
   "outputs": [],
   "source": [
    "df_1 = df[df['rating'] == 1]\n",
    "df_2 = df[df['rating'] == 2]\n",
    "df_3 = df[df['rating'] == 3]\n",
    "df_4 = df[df['rating'] == 4]"
   ]
  },
  {
   "cell_type": "code",
   "execution_count": 65,
   "id": "0d4c84eb",
   "metadata": {},
   "outputs": [
    {
     "data": {
      "text/plain": [
       "(462106, 11)"
      ]
     },
     "execution_count": 65,
     "metadata": {},
     "output_type": "execute_result"
    }
   ],
   "source": [
    "df_bf_s = pd.concat([df_1, df_2, df_3, df_4, df_5])\n",
    "df_bf_s.shape"
   ]
  },
  {
   "cell_type": "code",
   "execution_count": 82,
   "id": "1274f380",
   "metadata": {},
   "outputs": [
    {
     "data": {
      "text/plain": [
       "(50000, 11)"
      ]
     },
     "execution_count": 82,
     "metadata": {},
     "output_type": "execute_result"
    }
   ],
   "source": [
    "df_s = df_bf_s.sample(50000)\n",
    "df_s.reset_index(drop = True, inplace = True)\n",
    "df_s.shape"
   ]
  },
  {
   "cell_type": "code",
   "execution_count": 83,
   "id": "4165b321",
   "metadata": {},
   "outputs": [
    {
     "name": "stdout",
     "output_type": "stream",
     "text": [
      "(11830, 11)\n",
      "(4622, 11)\n",
      "(5299, 11)\n",
      "(6512, 11)\n",
      "(21737, 11)\n"
     ]
    }
   ],
   "source": [
    "print(df_s[df_s['rating'] == 1].shape)\n",
    "print(df_s[df_s['rating'] == 2].shape)\n",
    "print(df_s[df_s['rating'] == 3].shape)\n",
    "print(df_s[df_s['rating'] == 4].shape)\n",
    "print(df_s[df_s['rating'] == 5].shape)"
   ]
  },
  {
   "cell_type": "code",
   "execution_count": 84,
   "id": "8462a64d",
   "metadata": {},
   "outputs": [],
   "source": [
    "df_s.to_csv('podcast_sample.csv')"
   ]
  },
  {
   "cell_type": "code",
   "execution_count": null,
   "id": "566e319b",
   "metadata": {},
   "outputs": [],
   "source": []
  },
  {
   "cell_type": "code",
   "execution_count": 85,
   "id": "55722055",
   "metadata": {},
   "outputs": [
    {
     "data": {
      "text/html": [
       "<div>\n",
       "<style scoped>\n",
       "    .dataframe tbody tr th:only-of-type {\n",
       "        vertical-align: middle;\n",
       "    }\n",
       "\n",
       "    .dataframe tbody tr th {\n",
       "        vertical-align: top;\n",
       "    }\n",
       "\n",
       "    .dataframe thead th {\n",
       "        text-align: right;\n",
       "    }\n",
       "</style>\n",
       "<table border=\"1\" class=\"dataframe\">\n",
       "  <thead>\n",
       "    <tr style=\"text-align: right;\">\n",
       "      <th></th>\n",
       "      <th>podcast_id</th>\n",
       "      <th>title</th>\n",
       "      <th>content</th>\n",
       "      <th>rating</th>\n",
       "      <th>author_id</th>\n",
       "      <th>created_at</th>\n",
       "      <th>itunes_id</th>\n",
       "      <th>slug</th>\n",
       "      <th>itunes_url</th>\n",
       "      <th>podcast_title</th>\n",
       "      <th>category</th>\n",
       "    </tr>\n",
       "  </thead>\n",
       "  <tbody>\n",
       "    <tr>\n",
       "      <th>0</th>\n",
       "      <td>b313ef8ef0d5b64290d3036ff1bbf2d2</td>\n",
       "      <td>감성 라디오 음악도시</td>\n",
       "      <td>미국 서부에 있는 유학생이에요. 성시경씨 제대 후 라디오 복귀만 기다려오다가 6 월...</td>\n",
       "      <td>5</td>\n",
       "      <td>664CCA7142E9AE8</td>\n",
       "      <td>2011-09-14T13:25:46-07:00</td>\n",
       "      <td>442838670</td>\n",
       "      <td>fm-%EC%9D%8C%EC%95%85%EB%8F%84%EC%8B%9C-%EC%A2...</td>\n",
       "      <td>https://podcasts.apple.com/us/podcast/fm-%EC%9...</td>\n",
       "      <td>FM 음악도시(종영)</td>\n",
       "      <td>music</td>\n",
       "    </tr>\n",
       "    <tr>\n",
       "      <th>1</th>\n",
       "      <td>abfb842993be20d21bfae7103addc5e9</td>\n",
       "      <td>They’ve really cut back on the content this se...</td>\n",
       "      <td>Last season there was a new pod every 3-4 days...</td>\n",
       "      <td>1</td>\n",
       "      <td>AD790CE113DCBC1</td>\n",
       "      <td>2018-04-11T13:46:47-07:00</td>\n",
       "      <td>1015394113</td>\n",
       "      <td>the-good-phight-for-philadelphia-phillies-fans</td>\n",
       "      <td>https://podcasts.apple.com/us/podcast/the-good...</td>\n",
       "      <td>The Good Phight: for Philadelphia Phillies fans</td>\n",
       "      <td>sports</td>\n",
       "    </tr>\n",
       "    <tr>\n",
       "      <th>2</th>\n",
       "      <td>ebdf879a424547d01862a9bbba18a0f3</td>\n",
       "      <td>Good info. source...</td>\n",
       "      <td>Bob brings a lot of knowledge to any firearm d...</td>\n",
       "      <td>4</td>\n",
       "      <td>E223A4B2642C970</td>\n",
       "      <td>2010-01-19T08:11:43-07:00</td>\n",
       "      <td>333180229</td>\n",
       "      <td>handgun-world-podcast</td>\n",
       "      <td>https://podcasts.apple.com/us/podcast/handgun-...</td>\n",
       "      <td>Handgun World Podcast</td>\n",
       "      <td>news</td>\n",
       "    </tr>\n",
       "    <tr>\n",
       "      <th>3</th>\n",
       "      <td>ab2fdb7db023b223d870487165d11ff3</td>\n",
       "      <td>Mixed</td>\n",
       "      <td>They have lost much of thier credibility by de...</td>\n",
       "      <td>3</td>\n",
       "      <td>E1E7DBE750D119E</td>\n",
       "      <td>2021-01-28T12:21:49-07:00</td>\n",
       "      <td>971901464</td>\n",
       "      <td>wsj-opinion-potomac-watch</td>\n",
       "      <td>https://podcasts.apple.com/us/podcast/wsj-opin...</td>\n",
       "      <td>WSJ Opinion: Potomac Watch</td>\n",
       "      <td>news</td>\n",
       "    </tr>\n",
       "    <tr>\n",
       "      <th>4</th>\n",
       "      <td>ca601bd1524322d0527b16adf2738ff3</td>\n",
       "      <td>Try it now!</td>\n",
       "      <td>Even better than I expected. I was interested ...</td>\n",
       "      <td>5</td>\n",
       "      <td>D7CA4858AFA2CFC</td>\n",
       "      <td>2017-08-24T10:55:20-07:00</td>\n",
       "      <td>1257821731</td>\n",
       "      <td>conversations-with-people-who-hate-me</td>\n",
       "      <td>https://podcasts.apple.com/us/podcast/conversa...</td>\n",
       "      <td>Conversations with People Who Hate Me</td>\n",
       "      <td>society</td>\n",
       "    </tr>\n",
       "  </tbody>\n",
       "</table>\n",
       "</div>"
      ],
      "text/plain": [
       "                         podcast_id  \\\n",
       "0  b313ef8ef0d5b64290d3036ff1bbf2d2   \n",
       "1  abfb842993be20d21bfae7103addc5e9   \n",
       "2  ebdf879a424547d01862a9bbba18a0f3   \n",
       "3  ab2fdb7db023b223d870487165d11ff3   \n",
       "4  ca601bd1524322d0527b16adf2738ff3   \n",
       "\n",
       "                                               title  \\\n",
       "0                                        감성 라디오 음악도시   \n",
       "1  They’ve really cut back on the content this se...   \n",
       "2                               Good info. source...   \n",
       "3                                              Mixed   \n",
       "4                                        Try it now!   \n",
       "\n",
       "                                             content  rating        author_id  \\\n",
       "0  미국 서부에 있는 유학생이에요. 성시경씨 제대 후 라디오 복귀만 기다려오다가 6 월...       5  664CCA7142E9AE8   \n",
       "1  Last season there was a new pod every 3-4 days...       1  AD790CE113DCBC1   \n",
       "2  Bob brings a lot of knowledge to any firearm d...       4  E223A4B2642C970   \n",
       "3  They have lost much of thier credibility by de...       3  E1E7DBE750D119E   \n",
       "4  Even better than I expected. I was interested ...       5  D7CA4858AFA2CFC   \n",
       "\n",
       "                  created_at   itunes_id  \\\n",
       "0  2011-09-14T13:25:46-07:00   442838670   \n",
       "1  2018-04-11T13:46:47-07:00  1015394113   \n",
       "2  2010-01-19T08:11:43-07:00   333180229   \n",
       "3  2021-01-28T12:21:49-07:00   971901464   \n",
       "4  2017-08-24T10:55:20-07:00  1257821731   \n",
       "\n",
       "                                                slug  \\\n",
       "0  fm-%EC%9D%8C%EC%95%85%EB%8F%84%EC%8B%9C-%EC%A2...   \n",
       "1     the-good-phight-for-philadelphia-phillies-fans   \n",
       "2                              handgun-world-podcast   \n",
       "3                          wsj-opinion-potomac-watch   \n",
       "4              conversations-with-people-who-hate-me   \n",
       "\n",
       "                                          itunes_url  \\\n",
       "0  https://podcasts.apple.com/us/podcast/fm-%EC%9...   \n",
       "1  https://podcasts.apple.com/us/podcast/the-good...   \n",
       "2  https://podcasts.apple.com/us/podcast/handgun-...   \n",
       "3  https://podcasts.apple.com/us/podcast/wsj-opin...   \n",
       "4  https://podcasts.apple.com/us/podcast/conversa...   \n",
       "\n",
       "                                     podcast_title category  \n",
       "0                                      FM 음악도시(종영)    music  \n",
       "1  The Good Phight: for Philadelphia Phillies fans   sports  \n",
       "2                            Handgun World Podcast     news  \n",
       "3                       WSJ Opinion: Potomac Watch     news  \n",
       "4            Conversations with People Who Hate Me  society  "
      ]
     },
     "execution_count": 85,
     "metadata": {},
     "output_type": "execute_result"
    }
   ],
   "source": [
    "test = pd.read_csv('podcast_sample.csv', lineterminator='\\n', index_col = 0)\n",
    "test.head()"
   ]
  },
  {
   "cell_type": "code",
   "execution_count": 86,
   "id": "b1114c0e",
   "metadata": {},
   "outputs": [
    {
     "name": "stdout",
     "output_type": "stream",
     "text": [
      "<class 'pandas.core.frame.DataFrame'>\n",
      "Int64Index: 50000 entries, 0 to 49999\n",
      "Data columns (total 11 columns):\n",
      " #   Column         Non-Null Count  Dtype \n",
      "---  ------         --------------  ----- \n",
      " 0   podcast_id     50000 non-null  object\n",
      " 1   title          50000 non-null  object\n",
      " 2   content        50000 non-null  object\n",
      " 3   rating         50000 non-null  int64 \n",
      " 4   author_id      50000 non-null  object\n",
      " 5   created_at     50000 non-null  object\n",
      " 6   itunes_id      50000 non-null  int64 \n",
      " 7   slug           50000 non-null  object\n",
      " 8   itunes_url     50000 non-null  object\n",
      " 9   podcast_title  49999 non-null  object\n",
      " 10  category       50000 non-null  object\n",
      "dtypes: int64(2), object(9)\n",
      "memory usage: 4.6+ MB\n"
     ]
    }
   ],
   "source": [
    "test.info()"
   ]
  },
  {
   "cell_type": "code",
   "execution_count": null,
   "id": "3b9970a3",
   "metadata": {},
   "outputs": [],
   "source": []
  }
 ],
 "metadata": {
  "kernelspec": {
   "display_name": "Python 3",
   "language": "python",
   "name": "python3"
  },
  "language_info": {
   "codemirror_mode": {
    "name": "ipython",
    "version": 3
   },
   "file_extension": ".py",
   "mimetype": "text/x-python",
   "name": "python",
   "nbconvert_exporter": "python",
   "pygments_lexer": "ipython3",
   "version": "3.7.10"
  }
 },
 "nbformat": 4,
 "nbformat_minor": 5
}
