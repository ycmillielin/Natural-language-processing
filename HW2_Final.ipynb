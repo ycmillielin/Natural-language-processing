{
 "cells": [
  {
   "cell_type": "code",
   "execution_count": 1,
   "id": "4cdf7d5e",
   "metadata": {},
   "outputs": [],
   "source": [
    "import pandas as pd\n",
    "import re\n",
    "import numpy as np\n",
    "import nltk\n",
    "import string\n",
    "import html\n",
    "from collections import Counter\n",
    "from nltk.corpus import stopwords\n",
    "from nltk.tokenize import word_tokenize\n",
    "from nltk.stem import PorterStemmer\n",
    "from nltk.stem import WordNetLemmatizer\n",
    "from sklearn.feature_extraction.text import TfidfVectorizer, CountVectorizer\n",
    "from sklearn.decomposition import NMF\n",
    "from nltk.corpus import wordnet\n",
    "from typing import List\n",
    "\n",
    "import spacy\n",
    "from sklearn.preprocessing import OneHotEncoder\n",
    "from sklearn.metrics import confusion_matrix \n",
    "from sklearn.linear_model import LogisticRegression\n",
    "from sklearn.svm import SVC\n",
    "from sklearn.model_selection import cross_val_score, cross_validate, GridSearchCV\n",
    "from sklearn.metrics import roc_auc_score, accuracy_score, classification_report, confusion_matrix, f1_score\n",
    "\n",
    "import warnings\n",
    "warnings.filterwarnings(\"ignore\")"
   ]
  },
  {
   "cell_type": "markdown",
   "id": "d52b66fc",
   "metadata": {},
   "source": [
    "# Part I.  Topic Modelling and Analysis (5pts)\n",
    "\n",
    "Pick from **one** of the dataset options below:\n",
    "* **Negative McDonalds Yelp reviews**: `datasets/mcdonalds-yelp-negative-reviews.csv`\n",
    "* **[Top 5000 Udemy courses](https://www.kaggle.com/datasets/90eededa5561eee7f62c0e68ecdad14c2bdb58bc923834067025dee655a6083e?resource=download)** - a Kaggle dataset of the course descriptions of the top 5000 Udemy courses in 2022: `datasets/top5000_udemy.csv`\n",
    "\n",
    "In your notebook, explore the data and perform topic modelling. You may use any vectorization or text preprocessing techniques we have discussed.\n",
    "\n",
    "In order to earn full credit, you must:\n",
    "\n",
    "* Show the **# of topics you tried, and explain why you ultimately decided on the final #**.\n",
    "* Demonstrate **adequate text preprocessing (there are likely obvious stopwords / fuzzy matching / regex groupings that can be done to improve the final results)** - show what you tried.\n",
    "* In 2-3 sentences: A **business analysis of these topics - what do they reveal as actionable next steps or insights for McDonalds or Udemy?** Please be specific in your recommendations/insights.\n",
    "    - **Not specific**: *We recommend Amazon look into the quality of their toys, since the reviews show disatisfaction with the value of their product.*\n",
    "    - **Specific**: *Amazon should explore more durable batteries/hardwares. For example, X% of reviews mention that the toys' batteries were broken or immediately died. This is part of a larger theme of components not being ready to use out the box, which often leads to disappointment on holiday occasions when children open up their gifts. See the following document snippets as examples:...*"
   ]
  },
  {
   "cell_type": "code",
   "execution_count": 2,
   "id": "9a175635",
   "metadata": {},
   "outputs": [
    {
     "data": {
      "text/plain": [
       "(5027, 10)"
      ]
     },
     "execution_count": 2,
     "metadata": {},
     "output_type": "execute_result"
    }
   ],
   "source": [
    "df = pd.read_csv('../datasets/Udemy.csv')\n",
    "df = df[['course_name', 'course description', 'reviews_avg', 'reviews_count', 'course_duration', 'lectures_count',\n",
    "             'price_after_discount', 'main_price', 'students_count', 'instructor']]\n",
    "df.shape"
   ]
  },
  {
   "cell_type": "code",
   "execution_count": 3,
   "id": "2948f34a",
   "metadata": {},
   "outputs": [
    {
     "data": {
      "text/html": [
       "<div>\n",
       "<style scoped>\n",
       "    .dataframe tbody tr th:only-of-type {\n",
       "        vertical-align: middle;\n",
       "    }\n",
       "\n",
       "    .dataframe tbody tr th {\n",
       "        vertical-align: top;\n",
       "    }\n",
       "\n",
       "    .dataframe thead th {\n",
       "        text-align: right;\n",
       "    }\n",
       "</style>\n",
       "<table border=\"1\" class=\"dataframe\">\n",
       "  <thead>\n",
       "    <tr style=\"text-align: right;\">\n",
       "      <th></th>\n",
       "      <th>course_name</th>\n",
       "      <th>course description</th>\n",
       "      <th>reviews_avg</th>\n",
       "      <th>reviews_count</th>\n",
       "      <th>course_duration</th>\n",
       "      <th>lectures_count</th>\n",
       "      <th>price_after_discount</th>\n",
       "      <th>main_price</th>\n",
       "      <th>students_count</th>\n",
       "      <th>instructor</th>\n",
       "    </tr>\n",
       "  </thead>\n",
       "  <tbody>\n",
       "    <tr>\n",
       "      <th>0</th>\n",
       "      <td>2022 Complete Python Bootcamp From Zero to Her...</td>\n",
       "      <td>Learn Python like a Professional  Start from t...</td>\n",
       "      <td>Rating: 4.6 out of 5</td>\n",
       "      <td>440383 reviews</td>\n",
       "      <td>22 total hours</td>\n",
       "      <td>155 lectures</td>\n",
       "      <td>Current price: E£319.99</td>\n",
       "      <td>Original price: E£1,399.99</td>\n",
       "      <td>1,629,692 students</td>\n",
       "      <td>Jose Portilla</td>\n",
       "    </tr>\n",
       "    <tr>\n",
       "      <th>1</th>\n",
       "      <td>The Web Developer Bootcamp 2022</td>\n",
       "      <td>COMPLETELY REDONE - The only course you need t...</td>\n",
       "      <td>Rating: 4.7 out of 5</td>\n",
       "      <td>248508 reviews</td>\n",
       "      <td>64 total hours</td>\n",
       "      <td>615 lectures</td>\n",
       "      <td>Current price: E£269.99</td>\n",
       "      <td>Original price: E£1,399.99</td>\n",
       "      <td>830,559 students</td>\n",
       "      <td>Colt Steele</td>\n",
       "    </tr>\n",
       "  </tbody>\n",
       "</table>\n",
       "</div>"
      ],
      "text/plain": [
       "                                         course_name  \\\n",
       "0  2022 Complete Python Bootcamp From Zero to Her...   \n",
       "1                    The Web Developer Bootcamp 2022   \n",
       "\n",
       "                                  course description           reviews_avg  \\\n",
       "0  Learn Python like a Professional  Start from t...  Rating: 4.6 out of 5   \n",
       "1  COMPLETELY REDONE - The only course you need t...  Rating: 4.7 out of 5   \n",
       "\n",
       "    reviews_count course_duration lectures_count     price_after_discount  \\\n",
       "0  440383 reviews  22 total hours   155 lectures  Current price: E£319.99   \n",
       "1  248508 reviews  64 total hours   615 lectures  Current price: E£269.99   \n",
       "\n",
       "                   main_price      students_count     instructor  \n",
       "0  Original price: E£1,399.99  1,629,692 students  Jose Portilla  \n",
       "1  Original price: E£1,399.99    830,559 students    Colt Steele  "
      ]
     },
     "execution_count": 3,
     "metadata": {},
     "output_type": "execute_result"
    }
   ],
   "source": [
    "df.head(2)"
   ]
  },
  {
   "cell_type": "markdown",
   "id": "7e490709",
   "metadata": {},
   "source": [
    "## Preprocessing"
   ]
  },
  {
   "cell_type": "markdown",
   "id": "87001337",
   "metadata": {},
   "source": [
    "### Numerical: transfer string to float"
   ]
  },
  {
   "cell_type": "code",
   "execution_count": 4,
   "id": "39cf36fb",
   "metadata": {},
   "outputs": [],
   "source": [
    "def find_number(line):\n",
    "    num = re.findall(r'[\\d+\\.]',line)\n",
    "    return \"\".join(num)"
   ]
  },
  {
   "cell_type": "code",
   "execution_count": 5,
   "id": "3d39b11f",
   "metadata": {},
   "outputs": [
    {
     "data": {
      "text/html": [
       "<div>\n",
       "<style scoped>\n",
       "    .dataframe tbody tr th:only-of-type {\n",
       "        vertical-align: middle;\n",
       "    }\n",
       "\n",
       "    .dataframe tbody tr th {\n",
       "        vertical-align: top;\n",
       "    }\n",
       "\n",
       "    .dataframe thead th {\n",
       "        text-align: right;\n",
       "    }\n",
       "</style>\n",
       "<table border=\"1\" class=\"dataframe\">\n",
       "  <thead>\n",
       "    <tr style=\"text-align: right;\">\n",
       "      <th></th>\n",
       "      <th>course_name</th>\n",
       "      <th>course description</th>\n",
       "      <th>reviews_avg</th>\n",
       "      <th>reviews_count</th>\n",
       "      <th>course_duration</th>\n",
       "      <th>lectures_count</th>\n",
       "      <th>price_after_discount</th>\n",
       "      <th>main_price</th>\n",
       "      <th>students_count</th>\n",
       "      <th>instructor</th>\n",
       "    </tr>\n",
       "  </thead>\n",
       "  <tbody>\n",
       "    <tr>\n",
       "      <th>0</th>\n",
       "      <td>2022 Complete Python Bootcamp From Zero to Her...</td>\n",
       "      <td>Learn Python like a Professional  Start from t...</td>\n",
       "      <td>4.65</td>\n",
       "      <td>440383.0</td>\n",
       "      <td>22.0</td>\n",
       "      <td>155.0</td>\n",
       "      <td>319.99</td>\n",
       "      <td>1399.99</td>\n",
       "      <td>1629692.0</td>\n",
       "      <td>Jose Portilla</td>\n",
       "    </tr>\n",
       "    <tr>\n",
       "      <th>1</th>\n",
       "      <td>The Web Developer Bootcamp 2022</td>\n",
       "      <td>COMPLETELY REDONE - The only course you need t...</td>\n",
       "      <td>4.75</td>\n",
       "      <td>248508.0</td>\n",
       "      <td>64.0</td>\n",
       "      <td>615.0</td>\n",
       "      <td>269.99</td>\n",
       "      <td>1399.99</td>\n",
       "      <td>830559.0</td>\n",
       "      <td>Colt Steele</td>\n",
       "    </tr>\n",
       "    <tr>\n",
       "      <th>2</th>\n",
       "      <td>The Complete 2022 Web Development Bootcamp</td>\n",
       "      <td>Become a Full-Stack Web Developer with just ON...</td>\n",
       "      <td>4.75</td>\n",
       "      <td>234837.0</td>\n",
       "      <td>65.5</td>\n",
       "      <td>490.0</td>\n",
       "      <td>349.99</td>\n",
       "      <td>1699.99</td>\n",
       "      <td>794897.0</td>\n",
       "      <td>Dr. Angela Yu</td>\n",
       "    </tr>\n",
       "    <tr>\n",
       "      <th>3</th>\n",
       "      <td>Angular - The Complete Guide (2023 Edition)</td>\n",
       "      <td>Master Angular 14 (formerly \"Angular 2\") and b...</td>\n",
       "      <td>4.65</td>\n",
       "      <td>174576.0</td>\n",
       "      <td>34.5</td>\n",
       "      <td>472.0</td>\n",
       "      <td>319.99</td>\n",
       "      <td>1599.99</td>\n",
       "      <td>634196.0</td>\n",
       "      <td>Maximilian Schwarzmüller</td>\n",
       "    </tr>\n",
       "    <tr>\n",
       "      <th>4</th>\n",
       "      <td>Java Programming Masterclass covering Java 11 ...</td>\n",
       "      <td>Learn Java In This Course And Become a Compute...</td>\n",
       "      <td>4.55</td>\n",
       "      <td>171838.0</td>\n",
       "      <td>80.5</td>\n",
       "      <td>401.0</td>\n",
       "      <td>349.99</td>\n",
       "      <td>849.99</td>\n",
       "      <td>727934.0</td>\n",
       "      <td>Tim Buchalka, Tim Buchalka's Learn Programming...</td>\n",
       "    </tr>\n",
       "  </tbody>\n",
       "</table>\n",
       "</div>"
      ],
      "text/plain": [
       "                                         course_name  \\\n",
       "0  2022 Complete Python Bootcamp From Zero to Her...   \n",
       "1                    The Web Developer Bootcamp 2022   \n",
       "2         The Complete 2022 Web Development Bootcamp   \n",
       "3        Angular - The Complete Guide (2023 Edition)   \n",
       "4  Java Programming Masterclass covering Java 11 ...   \n",
       "\n",
       "                                  course description  reviews_avg  \\\n",
       "0  Learn Python like a Professional  Start from t...         4.65   \n",
       "1  COMPLETELY REDONE - The only course you need t...         4.75   \n",
       "2  Become a Full-Stack Web Developer with just ON...         4.75   \n",
       "3  Master Angular 14 (formerly \"Angular 2\") and b...         4.65   \n",
       "4  Learn Java In This Course And Become a Compute...         4.55   \n",
       "\n",
       "   reviews_count  course_duration  lectures_count  price_after_discount  \\\n",
       "0       440383.0             22.0           155.0                319.99   \n",
       "1       248508.0             64.0           615.0                269.99   \n",
       "2       234837.0             65.5           490.0                349.99   \n",
       "3       174576.0             34.5           472.0                319.99   \n",
       "4       171838.0             80.5           401.0                349.99   \n",
       "\n",
       "   main_price  students_count  \\\n",
       "0     1399.99       1629692.0   \n",
       "1     1399.99        830559.0   \n",
       "2     1699.99        794897.0   \n",
       "3     1599.99        634196.0   \n",
       "4      849.99        727934.0   \n",
       "\n",
       "                                          instructor  \n",
       "0                                      Jose Portilla  \n",
       "1                                        Colt Steele  \n",
       "2                                      Dr. Angela Yu  \n",
       "3                           Maximilian Schwarzmüller  \n",
       "4  Tim Buchalka, Tim Buchalka's Learn Programming...  "
      ]
     },
     "execution_count": 5,
     "metadata": {},
     "output_type": "execute_result"
    }
   ],
   "source": [
    "for i in ['reviews_avg', 'reviews_count', 'course_duration', 'lectures_count',\n",
    "          'price_after_discount', 'main_price', 'students_count']:\n",
    "    df[i] = df[i].astype(str)\n",
    "    df[i] = df[i].apply(lambda x: find_number(x))\n",
    "    df[i] = pd.to_numeric(df[i], errors='coerce')\n",
    "\n",
    "df.head()"
   ]
  },
  {
   "cell_type": "markdown",
   "id": "e4b35f38",
   "metadata": {},
   "source": [
    "### Categorical: only keep top 11 instructors"
   ]
  },
  {
   "cell_type": "code",
   "execution_count": 6,
   "id": "45eec12d",
   "metadata": {},
   "outputs": [
    {
     "data": {
      "text/plain": [
       "Index(['Packt Publishing', 'Bluelime Learning Solutions', 'Laurence Svekis',\n",
       "       'Eduonix Learning Solutions, Eduonix-Tech .', 'Infinite Skills',\n",
       "       'YouAccel Training', 'Oak Academy', 'Loony Corn', 'Stephen Grider',\n",
       "       'John Elder', 'Stone River eLearning'],\n",
       "      dtype='object')"
      ]
     },
     "execution_count": 6,
     "metadata": {},
     "output_type": "execute_result"
    }
   ],
   "source": [
    "cats = df['instructor'].value_counts()[lambda x: x > 25].index\n",
    "cats"
   ]
  },
  {
   "cell_type": "code",
   "execution_count": 7,
   "id": "4565c7a1",
   "metadata": {},
   "outputs": [
    {
     "data": {
      "text/html": [
       "<div>\n",
       "<style scoped>\n",
       "    .dataframe tbody tr th:only-of-type {\n",
       "        vertical-align: middle;\n",
       "    }\n",
       "\n",
       "    .dataframe tbody tr th {\n",
       "        vertical-align: top;\n",
       "    }\n",
       "\n",
       "    .dataframe thead th {\n",
       "        text-align: right;\n",
       "    }\n",
       "</style>\n",
       "<table border=\"1\" class=\"dataframe\">\n",
       "  <thead>\n",
       "    <tr style=\"text-align: right;\">\n",
       "      <th></th>\n",
       "      <th>course_name</th>\n",
       "      <th>course description</th>\n",
       "      <th>reviews_avg</th>\n",
       "      <th>reviews_count</th>\n",
       "      <th>course_duration</th>\n",
       "      <th>lectures_count</th>\n",
       "      <th>price_after_discount</th>\n",
       "      <th>main_price</th>\n",
       "      <th>students_count</th>\n",
       "      <th>instructor</th>\n",
       "      <th>...</th>\n",
       "      <th>Bluelime Learning Solutions</th>\n",
       "      <th>Laurence Svekis</th>\n",
       "      <th>Eduonix Learning Solutions, Eduonix-Tech .</th>\n",
       "      <th>Infinite Skills</th>\n",
       "      <th>YouAccel Training</th>\n",
       "      <th>Oak Academy</th>\n",
       "      <th>Loony Corn</th>\n",
       "      <th>Stephen Grider</th>\n",
       "      <th>John Elder</th>\n",
       "      <th>Stone River eLearning</th>\n",
       "    </tr>\n",
       "  </thead>\n",
       "  <tbody>\n",
       "    <tr>\n",
       "      <th>0</th>\n",
       "      <td>2022 Complete Python Bootcamp From Zero to Her...</td>\n",
       "      <td>Learn Python like a Professional  Start from t...</td>\n",
       "      <td>4.65</td>\n",
       "      <td>440383.0</td>\n",
       "      <td>22.0</td>\n",
       "      <td>155.0</td>\n",
       "      <td>319.99</td>\n",
       "      <td>1399.99</td>\n",
       "      <td>1629692.0</td>\n",
       "      <td>Jose Portilla</td>\n",
       "      <td>...</td>\n",
       "      <td>0</td>\n",
       "      <td>0</td>\n",
       "      <td>0</td>\n",
       "      <td>0</td>\n",
       "      <td>0</td>\n",
       "      <td>0</td>\n",
       "      <td>0</td>\n",
       "      <td>0</td>\n",
       "      <td>0</td>\n",
       "      <td>0</td>\n",
       "    </tr>\n",
       "    <tr>\n",
       "      <th>1</th>\n",
       "      <td>The Web Developer Bootcamp 2022</td>\n",
       "      <td>COMPLETELY REDONE - The only course you need t...</td>\n",
       "      <td>4.75</td>\n",
       "      <td>248508.0</td>\n",
       "      <td>64.0</td>\n",
       "      <td>615.0</td>\n",
       "      <td>269.99</td>\n",
       "      <td>1399.99</td>\n",
       "      <td>830559.0</td>\n",
       "      <td>Colt Steele</td>\n",
       "      <td>...</td>\n",
       "      <td>0</td>\n",
       "      <td>0</td>\n",
       "      <td>0</td>\n",
       "      <td>0</td>\n",
       "      <td>0</td>\n",
       "      <td>0</td>\n",
       "      <td>0</td>\n",
       "      <td>0</td>\n",
       "      <td>0</td>\n",
       "      <td>0</td>\n",
       "    </tr>\n",
       "  </tbody>\n",
       "</table>\n",
       "<p>2 rows × 21 columns</p>\n",
       "</div>"
      ],
      "text/plain": [
       "                                         course_name  \\\n",
       "0  2022 Complete Python Bootcamp From Zero to Her...   \n",
       "1                    The Web Developer Bootcamp 2022   \n",
       "\n",
       "                                  course description  reviews_avg  \\\n",
       "0  Learn Python like a Professional  Start from t...         4.65   \n",
       "1  COMPLETELY REDONE - The only course you need t...         4.75   \n",
       "\n",
       "   reviews_count  course_duration  lectures_count  price_after_discount  \\\n",
       "0       440383.0             22.0           155.0                319.99   \n",
       "1       248508.0             64.0           615.0                269.99   \n",
       "\n",
       "   main_price  students_count     instructor  ...  \\\n",
       "0     1399.99       1629692.0  Jose Portilla  ...   \n",
       "1     1399.99        830559.0    Colt Steele  ...   \n",
       "\n",
       "   Bluelime Learning Solutions  Laurence Svekis  \\\n",
       "0                            0                0   \n",
       "1                            0                0   \n",
       "\n",
       "   Eduonix Learning Solutions, Eduonix-Tech .  Infinite Skills  \\\n",
       "0                                           0                0   \n",
       "1                                           0                0   \n",
       "\n",
       "   YouAccel Training  Oak Academy  Loony Corn  Stephen Grider  John Elder  \\\n",
       "0                  0            0           0               0           0   \n",
       "1                  0            0           0               0           0   \n",
       "\n",
       "   Stone River eLearning  \n",
       "0                      0  \n",
       "1                      0  \n",
       "\n",
       "[2 rows x 21 columns]"
      ]
     },
     "execution_count": 7,
     "metadata": {},
     "output_type": "execute_result"
    }
   ],
   "source": [
    "df_cat = pd.get_dummies(df.instructor)\n",
    "df_cat = df_cat[cats]\n",
    "df = pd.concat([df, df_cat], axis=1)\n",
    "df.head(2)"
   ]
  },
  {
   "cell_type": "markdown",
   "id": "d60995d6",
   "metadata": {},
   "source": [
    "### Text         "
   ]
  },
  {
   "cell_type": "markdown",
   "id": "d80f0f0f",
   "metadata": {},
   "source": [
    "I first do the lemmitization. The reason why I choose lemmitization is that I think results in lemma are easier to interpret when doing word counts in comparison with stem. Stem is more difficult to interpret since you have to get back to the original text so that you can figure out what exact words are used. In contrast, lemma returns the base or dictionary form of a word and it's more intuitive."
   ]
  },
  {
   "cell_type": "code",
   "execution_count": 8,
   "id": "e1b2a0d4",
   "metadata": {},
   "outputs": [],
   "source": [
    "## Reference: https://gist.github.com/gaurav5430/9fce93759eb2f6b1697883c3782f30de#file-nltk-lemmatize-sentences-py\n",
    "lemmatizer = WordNetLemmatizer()\n",
    "\n",
    "# function to convert nltk tag to wordnet tag\n",
    "def nltk_tag_to_wordnet_tag(nltk_tag):\n",
    "    if nltk_tag.startswith('J'):\n",
    "        return wordnet.ADJ\n",
    "    elif nltk_tag.startswith('V'):\n",
    "        return wordnet.VERB\n",
    "    elif nltk_tag.startswith('N'):\n",
    "        return wordnet.NOUN\n",
    "    elif nltk_tag.startswith('R'):\n",
    "        return wordnet.ADV\n",
    "    else:          \n",
    "        return None\n",
    "\n",
    "def lemmatize_sentence(sentence):\n",
    "    #tokenize the sentence and find the POS tag for each token\n",
    "    nltk_tagged = nltk.pos_tag(nltk.word_tokenize(sentence))  \n",
    "    #tuple of (token, wordnet_tag)\n",
    "    wordnet_tagged = map(lambda x: (x[0], nltk_tag_to_wordnet_tag(x[1])), nltk_tagged)\n",
    "    lemmatized_sentence = []\n",
    "    for word, tag in wordnet_tagged:\n",
    "        if tag is None:\n",
    "            #if there is no available tag, append the token as is\n",
    "            lemmatized_sentence.append(word)\n",
    "        else:        \n",
    "            #else use the tag to lemmatize the token\n",
    "            lemmatized_sentence.append(lemmatizer.lemmatize(word, tag))\n",
    "    return \" \".join(lemmatized_sentence)\n",
    "\n",
    "def lem(line):\n",
    "    word_tokens = nltk.word_tokenize(line)\n",
    "    word_tokens = [lemmatize_sentence(t) for t in word_tokens]\n",
    "    cleaned_review = \" \".join(word_tokens)\n",
    "        \n",
    "    return cleaned_review"
   ]
  },
  {
   "cell_type": "code",
   "execution_count": 9,
   "id": "f165babb",
   "metadata": {},
   "outputs": [
    {
     "data": {
      "text/html": [
       "<div>\n",
       "<style scoped>\n",
       "    .dataframe tbody tr th:only-of-type {\n",
       "        vertical-align: middle;\n",
       "    }\n",
       "\n",
       "    .dataframe tbody tr th {\n",
       "        vertical-align: top;\n",
       "    }\n",
       "\n",
       "    .dataframe thead th {\n",
       "        text-align: right;\n",
       "    }\n",
       "</style>\n",
       "<table border=\"1\" class=\"dataframe\">\n",
       "  <thead>\n",
       "    <tr style=\"text-align: right;\">\n",
       "      <th></th>\n",
       "      <th>course_name</th>\n",
       "      <th>course description</th>\n",
       "      <th>reviews_avg</th>\n",
       "      <th>reviews_count</th>\n",
       "      <th>course_duration</th>\n",
       "      <th>lectures_count</th>\n",
       "      <th>price_after_discount</th>\n",
       "      <th>main_price</th>\n",
       "      <th>students_count</th>\n",
       "      <th>instructor</th>\n",
       "      <th>...</th>\n",
       "      <th>Laurence Svekis</th>\n",
       "      <th>Eduonix Learning Solutions, Eduonix-Tech .</th>\n",
       "      <th>Infinite Skills</th>\n",
       "      <th>YouAccel Training</th>\n",
       "      <th>Oak Academy</th>\n",
       "      <th>Loony Corn</th>\n",
       "      <th>Stephen Grider</th>\n",
       "      <th>John Elder</th>\n",
       "      <th>Stone River eLearning</th>\n",
       "      <th>title_description</th>\n",
       "    </tr>\n",
       "  </thead>\n",
       "  <tbody>\n",
       "    <tr>\n",
       "      <th>0</th>\n",
       "      <td>2022 Complete Python Bootcamp From Zero to Her...</td>\n",
       "      <td>Learn Python like a Professional  Start from t...</td>\n",
       "      <td>4.65</td>\n",
       "      <td>440383.0</td>\n",
       "      <td>22.0</td>\n",
       "      <td>155.0</td>\n",
       "      <td>319.99</td>\n",
       "      <td>1399.99</td>\n",
       "      <td>1629692.0</td>\n",
       "      <td>Jose Portilla</td>\n",
       "      <td>...</td>\n",
       "      <td>0</td>\n",
       "      <td>0</td>\n",
       "      <td>0</td>\n",
       "      <td>0</td>\n",
       "      <td>0</td>\n",
       "      <td>0</td>\n",
       "      <td>0</td>\n",
       "      <td>0</td>\n",
       "      <td>0</td>\n",
       "      <td>2022 complete python bootcamp from zero to her...</td>\n",
       "    </tr>\n",
       "    <tr>\n",
       "      <th>1</th>\n",
       "      <td>The Web Developer Bootcamp 2022</td>\n",
       "      <td>COMPLETELY REDONE - The only course you need t...</td>\n",
       "      <td>4.75</td>\n",
       "      <td>248508.0</td>\n",
       "      <td>64.0</td>\n",
       "      <td>615.0</td>\n",
       "      <td>269.99</td>\n",
       "      <td>1399.99</td>\n",
       "      <td>830559.0</td>\n",
       "      <td>Colt Steele</td>\n",
       "      <td>...</td>\n",
       "      <td>0</td>\n",
       "      <td>0</td>\n",
       "      <td>0</td>\n",
       "      <td>0</td>\n",
       "      <td>0</td>\n",
       "      <td>0</td>\n",
       "      <td>0</td>\n",
       "      <td>0</td>\n",
       "      <td>0</td>\n",
       "      <td>the web developer bootcamp 2022 completely red...</td>\n",
       "    </tr>\n",
       "    <tr>\n",
       "      <th>2</th>\n",
       "      <td>The Complete 2022 Web Development Bootcamp</td>\n",
       "      <td>Become a Full-Stack Web Developer with just ON...</td>\n",
       "      <td>4.75</td>\n",
       "      <td>234837.0</td>\n",
       "      <td>65.5</td>\n",
       "      <td>490.0</td>\n",
       "      <td>349.99</td>\n",
       "      <td>1699.99</td>\n",
       "      <td>794897.0</td>\n",
       "      <td>Dr. Angela Yu</td>\n",
       "      <td>...</td>\n",
       "      <td>0</td>\n",
       "      <td>0</td>\n",
       "      <td>0</td>\n",
       "      <td>0</td>\n",
       "      <td>0</td>\n",
       "      <td>0</td>\n",
       "      <td>0</td>\n",
       "      <td>0</td>\n",
       "      <td>0</td>\n",
       "      <td>the complete 2022 web development bootcamp bec...</td>\n",
       "    </tr>\n",
       "    <tr>\n",
       "      <th>3</th>\n",
       "      <td>Angular - The Complete Guide (2023 Edition)</td>\n",
       "      <td>Master Angular 14 (formerly \"Angular 2\") and b...</td>\n",
       "      <td>4.65</td>\n",
       "      <td>174576.0</td>\n",
       "      <td>34.5</td>\n",
       "      <td>472.0</td>\n",
       "      <td>319.99</td>\n",
       "      <td>1599.99</td>\n",
       "      <td>634196.0</td>\n",
       "      <td>Maximilian Schwarzmüller</td>\n",
       "      <td>...</td>\n",
       "      <td>0</td>\n",
       "      <td>0</td>\n",
       "      <td>0</td>\n",
       "      <td>0</td>\n",
       "      <td>0</td>\n",
       "      <td>0</td>\n",
       "      <td>0</td>\n",
       "      <td>0</td>\n",
       "      <td>0</td>\n",
       "      <td>angular - the complete guide ( 2023 edition ) ...</td>\n",
       "    </tr>\n",
       "    <tr>\n",
       "      <th>4</th>\n",
       "      <td>Java Programming Masterclass covering Java 11 ...</td>\n",
       "      <td>Learn Java In This Course And Become a Compute...</td>\n",
       "      <td>4.55</td>\n",
       "      <td>171838.0</td>\n",
       "      <td>80.5</td>\n",
       "      <td>401.0</td>\n",
       "      <td>349.99</td>\n",
       "      <td>849.99</td>\n",
       "      <td>727934.0</td>\n",
       "      <td>Tim Buchalka, Tim Buchalka's Learn Programming...</td>\n",
       "      <td>...</td>\n",
       "      <td>0</td>\n",
       "      <td>0</td>\n",
       "      <td>0</td>\n",
       "      <td>0</td>\n",
       "      <td>0</td>\n",
       "      <td>0</td>\n",
       "      <td>0</td>\n",
       "      <td>0</td>\n",
       "      <td>0</td>\n",
       "      <td>java program masterclass cover java 11 &amp; java ...</td>\n",
       "    </tr>\n",
       "  </tbody>\n",
       "</table>\n",
       "<p>5 rows × 22 columns</p>\n",
       "</div>"
      ],
      "text/plain": [
       "                                         course_name  \\\n",
       "0  2022 Complete Python Bootcamp From Zero to Her...   \n",
       "1                    The Web Developer Bootcamp 2022   \n",
       "2         The Complete 2022 Web Development Bootcamp   \n",
       "3        Angular - The Complete Guide (2023 Edition)   \n",
       "4  Java Programming Masterclass covering Java 11 ...   \n",
       "\n",
       "                                  course description  reviews_avg  \\\n",
       "0  Learn Python like a Professional  Start from t...         4.65   \n",
       "1  COMPLETELY REDONE - The only course you need t...         4.75   \n",
       "2  Become a Full-Stack Web Developer with just ON...         4.75   \n",
       "3  Master Angular 14 (formerly \"Angular 2\") and b...         4.65   \n",
       "4  Learn Java In This Course And Become a Compute...         4.55   \n",
       "\n",
       "   reviews_count  course_duration  lectures_count  price_after_discount  \\\n",
       "0       440383.0             22.0           155.0                319.99   \n",
       "1       248508.0             64.0           615.0                269.99   \n",
       "2       234837.0             65.5           490.0                349.99   \n",
       "3       174576.0             34.5           472.0                319.99   \n",
       "4       171838.0             80.5           401.0                349.99   \n",
       "\n",
       "   main_price  students_count  \\\n",
       "0     1399.99       1629692.0   \n",
       "1     1399.99        830559.0   \n",
       "2     1699.99        794897.0   \n",
       "3     1599.99        634196.0   \n",
       "4      849.99        727934.0   \n",
       "\n",
       "                                          instructor  ...  Laurence Svekis  \\\n",
       "0                                      Jose Portilla  ...                0   \n",
       "1                                        Colt Steele  ...                0   \n",
       "2                                      Dr. Angela Yu  ...                0   \n",
       "3                           Maximilian Schwarzmüller  ...                0   \n",
       "4  Tim Buchalka, Tim Buchalka's Learn Programming...  ...                0   \n",
       "\n",
       "   Eduonix Learning Solutions, Eduonix-Tech .  Infinite Skills  \\\n",
       "0                                           0                0   \n",
       "1                                           0                0   \n",
       "2                                           0                0   \n",
       "3                                           0                0   \n",
       "4                                           0                0   \n",
       "\n",
       "   YouAccel Training  Oak Academy  Loony Corn  Stephen Grider  John Elder  \\\n",
       "0                  0            0           0               0           0   \n",
       "1                  0            0           0               0           0   \n",
       "2                  0            0           0               0           0   \n",
       "3                  0            0           0               0           0   \n",
       "4                  0            0           0               0           0   \n",
       "\n",
       "   Stone River eLearning                                  title_description  \n",
       "0                      0  2022 complete python bootcamp from zero to her...  \n",
       "1                      0  the web developer bootcamp 2022 completely red...  \n",
       "2                      0  the complete 2022 web development bootcamp bec...  \n",
       "3                      0  angular - the complete guide ( 2023 edition ) ...  \n",
       "4                      0  java program masterclass cover java 11 & java ...  \n",
       "\n",
       "[5 rows x 22 columns]"
      ]
     },
     "execution_count": 9,
     "metadata": {},
     "output_type": "execute_result"
    }
   ],
   "source": [
    "df['title_description'] = df['course_name'] + ' ' + df['course description']\n",
    "# df.drop(columns=['course_name', 'course description'], inplace = True)\n",
    "df['title_description'] = df['title_description'].astype(str)\n",
    "df['title_description'] = df['title_description'].apply(lambda x: x.lower())\n",
    "df['title_description'] = df['title_description'].apply(lambda x: lem(x))\n",
    "df.head()"
   ]
  },
  {
   "cell_type": "markdown",
   "id": "693acf43",
   "metadata": {},
   "source": [
    "observe potential topics and decide regex cleaning target"
   ]
  },
  {
   "cell_type": "code",
   "execution_count": 10,
   "id": "fc0c314b",
   "metadata": {},
   "outputs": [],
   "source": [
    "def Countvec(words, Ngram=(1,1), token_pattern=None, min_df=1, max_df=1.0):\n",
    "    '''Create count vectorizer'''\n",
    "    vectorizer = CountVectorizer(stop_words=\"english\", ngram_range=Ngram, lowercase=True, \n",
    "                                 token_pattern=token_pattern, min_df=min_df, max_df=max_df)\n",
    "    X = vectorizer.fit_transform(words) \n",
    "    X = X.toarray()\n",
    "    print(X.shape)    \n",
    "    feature = vectorizer.get_feature_names()\n",
    "    corpus_df = pd.DataFrame(X, columns=feature)\n",
    "    return corpus_df"
   ]
  },
  {
   "cell_type": "code",
   "execution_count": 11,
   "id": "37c956b4",
   "metadata": {},
   "outputs": [],
   "source": [
    "description = df['title_description'].tolist()"
   ]
  },
  {
   "cell_type": "code",
   "execution_count": 12,
   "id": "7582bd86",
   "metadata": {
    "scrolled": true
   },
   "outputs": [
    {
     "name": "stdout",
     "output_type": "stream",
     "text": [
      "(5027, 4395)\n"
     ]
    },
    {
     "data": {
      "text/plain": [
       "learn          3603\n",
       "python         1541\n",
       "use            1378\n",
       "course         1205\n",
       "build          1177\n",
       "program        1147\n",
       "beginner       1136\n",
       "web            1028\n",
       "complete       1002\n",
       "data            997\n",
       "development     852\n",
       "java            733\n",
       "create          718\n",
       "javascript      694\n",
       "master          681\n",
       "project         652\n",
       "game            586\n",
       "step            586\n",
       "application     577\n",
       "test            565\n",
       "guide           562\n",
       "scratch         560\n",
       "sql             473\n",
       "app             472\n",
       "apps            470\n",
       "developer       457\n",
       "react           455\n",
       "html            441\n",
       "real            423\n",
       "basic           418\n",
       "advanced        416\n",
       "framework       413\n",
       "api             406\n",
       "android         406\n",
       "design          405\n",
       "code            373\n",
       "machine         369\n",
       "website         363\n",
       "unity           333\n",
       "php             332\n",
       "net             319\n",
       "make            316\n",
       "building        314\n",
       "science         313\n",
       "language        285\n",
       "cod             281\n",
       "core            275\n",
       "start           272\n",
       "database        272\n",
       "practical       271\n",
       "dtype: int64"
      ]
     },
     "execution_count": 12,
     "metadata": {},
     "output_type": "execute_result"
    }
   ],
   "source": [
    "description_vec = Countvec(words=description, Ngram=(1,1), token_pattern=r'[a-zA-Z]{3,}')\n",
    "description_vec.sum().sort_values(ascending=False)[:50]"
   ]
  },
  {
   "cell_type": "code",
   "execution_count": 13,
   "id": "44d0a9d2",
   "metadata": {
    "scrolled": true
   },
   "outputs": [
    {
     "name": "stdout",
     "output_type": "stream",
     "text": [
      "(5027, 33537)\n"
     ]
    },
    {
     "data": {
      "text/plain": [
       "machine learn              348\n",
       "data science               286\n",
       "step step                  263\n",
       "web development            257\n",
       "real world                 207\n",
       "learn python               198\n",
       "learn build                194\n",
       "course learn               193\n",
       "beginner learn             179\n",
       "python program             174\n",
       "asp net                    164\n",
       "complete guide             157\n",
       "learn create               151\n",
       "deep learn                 140\n",
       "web application            140\n",
       "sql server                 137\n",
       "data structure             129\n",
       "net core                   129\n",
       "program language           127\n",
       "learn use                  127\n",
       "game development           122\n",
       "spring boot                113\n",
       "rest api                   111\n",
       "learn basic                104\n",
       "html css                    98\n",
       "course beginner             98\n",
       "beginner advanced           97\n",
       "guide learn                 93\n",
       "learn program               88\n",
       "crash course                87\n",
       "app development             87\n",
       "learn code                  87\n",
       "java program                86\n",
       "use python                  83\n",
       "data analysis               81\n",
       "php mysql                   81\n",
       "application use             81\n",
       "absolute beginner           80\n",
       "complete course             79\n",
       "structure algorithm         79\n",
       "artificial intelligence     79\n",
       "web developer               78\n",
       "real time                   77\n",
       "web apps                    74\n",
       "program beginner            72\n",
       "object orient               70\n",
       "python learn                70\n",
       "developer course            70\n",
       "neural network              70\n",
       "learn javascript            69\n",
       "dtype: int64"
      ]
     },
     "execution_count": 13,
     "metadata": {},
     "output_type": "execute_result"
    }
   ],
   "source": [
    "description_vec2 = Countvec(description, (2,2), r'[a-zA-Z]{3,}')\n",
    "description_vec2.sum().sort_values(ascending=False)[:50]"
   ]
  },
  {
   "cell_type": "markdown",
   "id": "30ebd5f5",
   "metadata": {},
   "source": [
    "By observing results of count vectorizer, I find out that there are some potential topics:\n",
    "\n",
    "-  data science (machine learning, data science, artificial intelligence)        \n",
    "- web development (web development, web application, web apps, web developer, html css, javascript)       \n",
    "- database (sql server, mysql, data structure, structure algorithm)      \n",
    "- Application (real world, application use)  \n",
    "\n",
    "For regex, we can see that \"beginner\", \"basic\" have the similar meaning and they can be interprted together as \"_beginner_\". \"sql\", \"mysql\", \"database\" can be interprted together as \"_database_\". In addition, I  remove some common keywords that are too general like \"learn\", \"course\", \"use\"."
   ]
  },
  {
   "cell_type": "code",
   "execution_count": 14,
   "id": "d6d5f962",
   "metadata": {},
   "outputs": [],
   "source": [
    "def word_replace(line):\n",
    "    line = re.sub(r'\\b(beginner|basic|step)\\b', '_beginner_', line)\n",
    "    line = re.sub(r'\\b(sql|mysql|database)\\b', '_database_', line)\n",
    "    line = re.sub(r'\\b(learn|courses?|use)\\b', '', line)\n",
    "    return line"
   ]
  },
  {
   "cell_type": "code",
   "execution_count": 15,
   "id": "0e51877a",
   "metadata": {},
   "outputs": [],
   "source": [
    "df['new_title_desc'] = df['title_description'].apply(lambda x: word_replace(x))"
   ]
  },
  {
   "cell_type": "code",
   "execution_count": 16,
   "id": "80a95b05",
   "metadata": {},
   "outputs": [
    {
     "data": {
      "text/plain": [
       "Index(['course_name', 'course description', 'reviews_avg', 'reviews_count',\n",
       "       'course_duration', 'lectures_count', 'price_after_discount',\n",
       "       'main_price', 'students_count', 'instructor', 'Packt Publishing',\n",
       "       'Bluelime Learning Solutions', 'Laurence Svekis',\n",
       "       'Eduonix Learning Solutions, Eduonix-Tech .', 'Infinite Skills',\n",
       "       'YouAccel Training', 'Oak Academy', 'Loony Corn', 'Stephen Grider',\n",
       "       'John Elder', 'Stone River eLearning', 'title_description',\n",
       "       'new_title_desc'],\n",
       "      dtype='object')"
      ]
     },
     "execution_count": 16,
     "metadata": {},
     "output_type": "execute_result"
    }
   ],
   "source": [
    "df.columns"
   ]
  },
  {
   "cell_type": "code",
   "execution_count": 17,
   "id": "0cb4653d",
   "metadata": {},
   "outputs": [],
   "source": [
    "df_num = df[['reviews_avg', 'reviews_count', 'course_duration', 'lectures_count', 'price_after_discount',\n",
    "             'main_price', 'students_count']]\n",
    "df_cat = df[['Packt Publishing','Bluelime Learning Solutions', 'Laurence Svekis', \n",
    "             'Eduonix Learning Solutions, Eduonix-Tech .', 'Infinite Skills', 'YouAccel Training', \n",
    "             'Oak Academy', 'Loony Corn', 'Stephen Grider', 'John Elder', 'Stone River eLearning']]"
   ]
  },
  {
   "cell_type": "markdown",
   "id": "c192480f",
   "metadata": {},
   "source": [
    "## Perform Topic Modelling"
   ]
  },
  {
   "cell_type": "markdown",
   "id": "153a9126",
   "metadata": {},
   "source": [
    "Step 1: Vectorize The Corpus"
   ]
  },
  {
   "cell_type": "code",
   "execution_count": 18,
   "id": "a97fef7c",
   "metadata": {},
   "outputs": [
    {
     "name": "stdout",
     "output_type": "stream",
     "text": [
      "TF-IDF: (5027, 81)\n",
      "   _beginner_ _beginner_  _beginner_ advanced  _beginner_ expert  \\\n",
      "0                    0.0                  0.0                0.0   \n",
      "1                    0.0                  0.0                0.0   \n",
      "2                    0.0                  0.0                0.0   \n",
      "3                    0.0                  0.0                0.0   \n",
      "4                    0.0                  0.0                0.0   \n",
      "\n",
      "   _beginner_ guide  _beginner_ python  _database_ _database_  \\\n",
      "0               0.0                0.0                    0.0   \n",
      "1               0.0                0.0                    0.0   \n",
      "2               0.0                0.0                    0.0   \n",
      "3               0.0                0.0                    0.0   \n",
      "4               0.0                0.0                    0.0   \n",
      "\n",
      "   _database_ server  absolute _beginner_  android app  app development  ...  \\\n",
      "0                0.0                  0.0          0.0              0.0  ...   \n",
      "1                0.0                  0.0          0.0              0.0  ...   \n",
      "2                0.0                  0.0          0.0              0.0  ...   \n",
      "3                0.0                  0.0          0.0              0.0  ...   \n",
      "4                0.0                  0.0          0.0              0.0  ...   \n",
      "\n",
      "   Bluelime Learning Solutions  Laurence Svekis  \\\n",
      "0                            0                0   \n",
      "1                            0                0   \n",
      "2                            0                0   \n",
      "3                            0                0   \n",
      "4                            0                0   \n",
      "\n",
      "   Eduonix Learning Solutions, Eduonix-Tech .  Infinite Skills  \\\n",
      "0                                           0                0   \n",
      "1                                           0                0   \n",
      "2                                           0                0   \n",
      "3                                           0                0   \n",
      "4                                           0                0   \n",
      "\n",
      "   YouAccel Training  Oak Academy  Loony Corn  Stephen Grider  John Elder  \\\n",
      "0                  0            0           0               0           0   \n",
      "1                  0            0           0               0           0   \n",
      "2                  0            0           0               0           0   \n",
      "3                  0            0           0               0           0   \n",
      "4                  0            0           0               0           0   \n",
      "\n",
      "   Stone River eLearning  \n",
      "0                      0  \n",
      "1                      0  \n",
      "2                      0  \n",
      "3                      0  \n",
      "4                      0  \n",
      "\n",
      "[5 rows x 81 columns]\n"
     ]
    },
    {
     "data": {
      "text/html": [
       "<div>\n",
       "<style scoped>\n",
       "    .dataframe tbody tr th:only-of-type {\n",
       "        vertical-align: middle;\n",
       "    }\n",
       "\n",
       "    .dataframe tbody tr th {\n",
       "        vertical-align: top;\n",
       "    }\n",
       "\n",
       "    .dataframe thead th {\n",
       "        text-align: right;\n",
       "    }\n",
       "</style>\n",
       "<table border=\"1\" class=\"dataframe\">\n",
       "  <thead>\n",
       "    <tr style=\"text-align: right;\">\n",
       "      <th></th>\n",
       "      <th>_beginner_ _beginner_</th>\n",
       "      <th>_beginner_ advanced</th>\n",
       "      <th>_beginner_ expert</th>\n",
       "      <th>_beginner_ guide</th>\n",
       "      <th>_beginner_ python</th>\n",
       "      <th>_database_ _database_</th>\n",
       "      <th>_database_ server</th>\n",
       "      <th>absolute _beginner_</th>\n",
       "      <th>android app</th>\n",
       "      <th>app development</th>\n",
       "      <th>...</th>\n",
       "      <th>Bluelime Learning Solutions</th>\n",
       "      <th>Laurence Svekis</th>\n",
       "      <th>Eduonix Learning Solutions, Eduonix-Tech .</th>\n",
       "      <th>Infinite Skills</th>\n",
       "      <th>YouAccel Training</th>\n",
       "      <th>Oak Academy</th>\n",
       "      <th>Loony Corn</th>\n",
       "      <th>Stephen Grider</th>\n",
       "      <th>John Elder</th>\n",
       "      <th>Stone River eLearning</th>\n",
       "    </tr>\n",
       "  </thead>\n",
       "  <tbody>\n",
       "    <tr>\n",
       "      <th>0</th>\n",
       "      <td>0.0</td>\n",
       "      <td>0.0</td>\n",
       "      <td>0.0</td>\n",
       "      <td>0.0</td>\n",
       "      <td>0.0</td>\n",
       "      <td>0.0</td>\n",
       "      <td>0.0</td>\n",
       "      <td>0.0</td>\n",
       "      <td>0.0</td>\n",
       "      <td>0.0</td>\n",
       "      <td>...</td>\n",
       "      <td>0</td>\n",
       "      <td>0</td>\n",
       "      <td>0</td>\n",
       "      <td>0</td>\n",
       "      <td>0</td>\n",
       "      <td>0</td>\n",
       "      <td>0</td>\n",
       "      <td>0</td>\n",
       "      <td>0</td>\n",
       "      <td>0</td>\n",
       "    </tr>\n",
       "    <tr>\n",
       "      <th>1</th>\n",
       "      <td>0.0</td>\n",
       "      <td>0.0</td>\n",
       "      <td>0.0</td>\n",
       "      <td>0.0</td>\n",
       "      <td>0.0</td>\n",
       "      <td>0.0</td>\n",
       "      <td>0.0</td>\n",
       "      <td>0.0</td>\n",
       "      <td>0.0</td>\n",
       "      <td>0.0</td>\n",
       "      <td>...</td>\n",
       "      <td>0</td>\n",
       "      <td>0</td>\n",
       "      <td>0</td>\n",
       "      <td>0</td>\n",
       "      <td>0</td>\n",
       "      <td>0</td>\n",
       "      <td>0</td>\n",
       "      <td>0</td>\n",
       "      <td>0</td>\n",
       "      <td>0</td>\n",
       "    </tr>\n",
       "    <tr>\n",
       "      <th>2</th>\n",
       "      <td>0.0</td>\n",
       "      <td>0.0</td>\n",
       "      <td>0.0</td>\n",
       "      <td>0.0</td>\n",
       "      <td>0.0</td>\n",
       "      <td>0.0</td>\n",
       "      <td>0.0</td>\n",
       "      <td>0.0</td>\n",
       "      <td>0.0</td>\n",
       "      <td>0.0</td>\n",
       "      <td>...</td>\n",
       "      <td>0</td>\n",
       "      <td>0</td>\n",
       "      <td>0</td>\n",
       "      <td>0</td>\n",
       "      <td>0</td>\n",
       "      <td>0</td>\n",
       "      <td>0</td>\n",
       "      <td>0</td>\n",
       "      <td>0</td>\n",
       "      <td>0</td>\n",
       "    </tr>\n",
       "    <tr>\n",
       "      <th>3</th>\n",
       "      <td>0.0</td>\n",
       "      <td>0.0</td>\n",
       "      <td>0.0</td>\n",
       "      <td>0.0</td>\n",
       "      <td>0.0</td>\n",
       "      <td>0.0</td>\n",
       "      <td>0.0</td>\n",
       "      <td>0.0</td>\n",
       "      <td>0.0</td>\n",
       "      <td>0.0</td>\n",
       "      <td>...</td>\n",
       "      <td>0</td>\n",
       "      <td>0</td>\n",
       "      <td>0</td>\n",
       "      <td>0</td>\n",
       "      <td>0</td>\n",
       "      <td>0</td>\n",
       "      <td>0</td>\n",
       "      <td>0</td>\n",
       "      <td>0</td>\n",
       "      <td>0</td>\n",
       "    </tr>\n",
       "    <tr>\n",
       "      <th>4</th>\n",
       "      <td>0.0</td>\n",
       "      <td>0.0</td>\n",
       "      <td>0.0</td>\n",
       "      <td>0.0</td>\n",
       "      <td>0.0</td>\n",
       "      <td>0.0</td>\n",
       "      <td>0.0</td>\n",
       "      <td>0.0</td>\n",
       "      <td>0.0</td>\n",
       "      <td>0.0</td>\n",
       "      <td>...</td>\n",
       "      <td>0</td>\n",
       "      <td>0</td>\n",
       "      <td>0</td>\n",
       "      <td>0</td>\n",
       "      <td>0</td>\n",
       "      <td>0</td>\n",
       "      <td>0</td>\n",
       "      <td>0</td>\n",
       "      <td>0</td>\n",
       "      <td>0</td>\n",
       "    </tr>\n",
       "  </tbody>\n",
       "</table>\n",
       "<p>5 rows × 81 columns</p>\n",
       "</div>"
      ],
      "text/plain": [
       "   _beginner_ _beginner_  _beginner_ advanced  _beginner_ expert  \\\n",
       "0                    0.0                  0.0                0.0   \n",
       "1                    0.0                  0.0                0.0   \n",
       "2                    0.0                  0.0                0.0   \n",
       "3                    0.0                  0.0                0.0   \n",
       "4                    0.0                  0.0                0.0   \n",
       "\n",
       "   _beginner_ guide  _beginner_ python  _database_ _database_  \\\n",
       "0               0.0                0.0                    0.0   \n",
       "1               0.0                0.0                    0.0   \n",
       "2               0.0                0.0                    0.0   \n",
       "3               0.0                0.0                    0.0   \n",
       "4               0.0                0.0                    0.0   \n",
       "\n",
       "   _database_ server  absolute _beginner_  android app  app development  ...  \\\n",
       "0                0.0                  0.0          0.0              0.0  ...   \n",
       "1                0.0                  0.0          0.0              0.0  ...   \n",
       "2                0.0                  0.0          0.0              0.0  ...   \n",
       "3                0.0                  0.0          0.0              0.0  ...   \n",
       "4                0.0                  0.0          0.0              0.0  ...   \n",
       "\n",
       "   Bluelime Learning Solutions  Laurence Svekis  \\\n",
       "0                            0                0   \n",
       "1                            0                0   \n",
       "2                            0                0   \n",
       "3                            0                0   \n",
       "4                            0                0   \n",
       "\n",
       "   Eduonix Learning Solutions, Eduonix-Tech .  Infinite Skills  \\\n",
       "0                                           0                0   \n",
       "1                                           0                0   \n",
       "2                                           0                0   \n",
       "3                                           0                0   \n",
       "4                                           0                0   \n",
       "\n",
       "   YouAccel Training  Oak Academy  Loony Corn  Stephen Grider  John Elder  \\\n",
       "0                  0            0           0               0           0   \n",
       "1                  0            0           0               0           0   \n",
       "2                  0            0           0               0           0   \n",
       "3                  0            0           0               0           0   \n",
       "4                  0            0           0               0           0   \n",
       "\n",
       "   Stone River eLearning  \n",
       "0                      0  \n",
       "1                      0  \n",
       "2                      0  \n",
       "3                      0  \n",
       "4                      0  \n",
       "\n",
       "[5 rows x 81 columns]"
      ]
     },
     "execution_count": 18,
     "metadata": {},
     "output_type": "execute_result"
    }
   ],
   "source": [
    "vectorizer = TfidfVectorizer(ngram_range=(2,2),\n",
    "                             min_df=0.008, max_df=0.5, stop_words=\"english\")\n",
    "\n",
    "X = vectorizer.fit_transform(df['new_title_desc'])\n",
    "terms = vectorizer.get_feature_names()\n",
    "tf_idf = pd.DataFrame(X.toarray(), columns=terms)\n",
    "\n",
    "concat_list = [tf_idf, df_num, df_cat]\n",
    "tf_idf = pd.concat(concat_list, axis=1)\n",
    "\n",
    "print(f\"TF-IDF: {tf_idf.shape}\")\n",
    "print(tf_idf.head(5))\n",
    "tf_idf.head(5)"
   ]
  },
  {
   "cell_type": "markdown",
   "id": "d028c5b2",
   "metadata": {},
   "source": [
    "Step 2: Fit NMF Model"
   ]
  },
  {
   "cell_type": "code",
   "execution_count": 19,
   "id": "d272b473",
   "metadata": {},
   "outputs": [],
   "source": [
    "nmf = NMF(n_components=4)\n",
    "W = nmf.fit_transform(X)\n",
    "H = nmf.components_"
   ]
  },
  {
   "cell_type": "markdown",
   "id": "ebaf9a31",
   "metadata": {},
   "source": [
    "Step 3: Report Results For Each Topic"
   ]
  },
  {
   "cell_type": "code",
   "execution_count": 20,
   "id": "769ed722",
   "metadata": {},
   "outputs": [
    {
     "name": "stdout",
     "output_type": "stream",
     "text": [
      "TOPIC 0\n",
      "\n",
      "\b_beginner_ _beginner_ (51.7%)\n",
      "\n",
      "\b_beginner_ guide (9.7%)\n",
      "\n",
      "\bprogram _beginner_ (4.5%)\n",
      "\n",
      "\b_beginner_ advanced (3.6%)\n",
      "\n",
      "\b_database_ server (2.4%)\n",
      "\n",
      "==================================================\n",
      "TOPIC 1\n",
      "\n",
      "\bdata science (51.7%)\n",
      "\n",
      "\bscience machine (8.0%)\n",
      "\n",
      "\bpython data (6.7%)\n",
      "\n",
      "\bdata analysis (6.7%)\n",
      "\n",
      "\bpython program (4.3%)\n",
      "\n",
      "==================================================\n",
      "TOPIC 2\n",
      "\n",
      "\bweb development (42.5%)\n",
      "\n",
      "\bhtml cs (15.3%)\n",
      "\n",
      "\bstack web (6.1%)\n",
      "\n",
      "\bcs javascript (5.6%)\n",
      "\n",
      "\bweb developer (4.7%)\n",
      "\n",
      "==================================================\n",
      "TOPIC 3\n",
      "\n",
      "\breal world (30.1%)\n",
      "\n",
      "\bcomplete guide (18.3%)\n",
      "\n",
      "\bweb application (6.8%)\n",
      "\n",
      "\bbuild real (6.5%)\n",
      "\n",
      "\basp net (3.7%)\n",
      "\n",
      "==================================================\n"
     ]
    }
   ],
   "source": [
    "def get_top_tf_idf_tokens_for_topic(H: np.array, feature_names: List[str], num_top_tokens: int = 5):\n",
    "  \"\"\"\n",
    "  Uses the H matrix (K components x M original features) to identify for each\n",
    "  topic the most frequent tokens.\n",
    "  \"\"\"\n",
    "  for topic, vector in enumerate(H):\n",
    "    print(f\"TOPIC {topic}\\n\")\n",
    "    total = vector.sum()\n",
    "    top_scores = vector.argsort()[::-1][:num_top_tokens]\n",
    "    token_names = list(map(lambda idx: feature_names[idx], top_scores))\n",
    "    strengths = list(map(lambda idx: vector[idx] / total, top_scores))\n",
    "    \n",
    "    for strength, token_name in zip(strengths, token_names):\n",
    "        print(f\"\\b{token_name} ({round(strength * 100, 1)}%)\\n\")\n",
    "    print(f\"=\" * 50)\n",
    "\n",
    "get_top_tf_idf_tokens_for_topic(H, tf_idf.columns.tolist(), 5)"
   ]
  },
  {
   "cell_type": "markdown",
   "id": "decce9b2",
   "metadata": {},
   "source": [
    "Get the Top Documents For Each Topic            \n",
    "We can also use the W matrix to grab top documents per topic (ie. the document that had the greatest percentage of of each topic)."
   ]
  },
  {
   "cell_type": "code",
   "execution_count": 21,
   "id": "68e4148d",
   "metadata": {},
   "outputs": [],
   "source": [
    "def get_top_documents_for_each_topic(W: np.array, documents: List[str], num_docs: int = 5):\n",
    "    sorted_docs = W.argsort(axis=0)[::-1]\n",
    "    top_docs = sorted_docs[:num_docs].T\n",
    "    per_document_totals = W.sum(axis=1)\n",
    "    for topic, top_documents_for_topic in enumerate(top_docs):\n",
    "        print(f\"Topic {topic}\")\n",
    "        for doc in top_documents_for_topic:\n",
    "            score = W[doc][topic]\n",
    "            percent_about_topic = round(score / per_document_totals[doc] * 100, 1)\n",
    "            print(f\"{percent_about_topic}%\", documents[doc])\n",
    "            print(\"=\" * 50)"
   ]
  },
  {
   "cell_type": "code",
   "execution_count": 22,
   "id": "e76b8b9a",
   "metadata": {
    "scrolled": true
   },
   "outputs": [
    {
     "name": "stdout",
     "output_type": "stream",
     "text": [
      "Topic 0\n",
      "100.0% gitting start : step-by-step git and github crash course git start now with a hands-on guide to learn both git and github from an expert .\n",
      "==================================================\n",
      "100.0% sap smart form for beginner learn smartforms step by step ( hands-on approach ) | 17 practice example | all node in smartforms be discuss\n",
      "==================================================\n",
      "100.0% 17 beginner c # walkthrough project step by step learn how to code in c # by building 17 project\n",
      "==================================================\n",
      "100.0% python exercise for beginner : solve 100+ cod challenge practice your python skill with 100+ python exercise and check your solution with step-by-step video explanation .\n",
      "==================================================\n",
      "100.0% build an api from scratch with python , django , sqlite3 create an api step by step\n",
      "==================================================\n",
      "100.0% unity 3d 2017 - build , program & publish crossy road game step by step video lesson to create and publish a 3d 8 bit art game like crossy road to the app store . use unity3d\n",
      "==================================================\n",
      "100.0% look to learn bdd - cucumber .... ? get expertise in 2 hr step by step bdd concept | cucumber framework | gherkin language |end to end integration selenium cucumber maven java\n",
      "==================================================\n",
      "100.0% oracle bpm 12c for beginner ( step-by-step ) extend your experience with one of the most important oracle fusion middleware technology\n",
      "==================================================\n",
      "100.0% sap pi / sap po : interface development with standard adapter step by step course that show how to build interface with sap pi / sap process orchestration ( sap po ) standard adapter\n",
      "==================================================\n",
      "100.0% c # basic for beginner - learn c # fundamental by cod this c # basic course will create an unshakeable solid program skill and mindset foundation . learn c # with example\n",
      "==================================================\n",
      "Topic 1\n",
      "100.0% data science and machine learn masterclass with r data science by iitan - data science : data manipulation , data science data visualization , data science : data analytics\n",
      "==================================================\n",
      "100.0% machine learn and data science hands-on with python and r machine learn , statistic , python , ai , tensorflow , aws , deep learn , r program , nlp , bayesian , bi and much more\n",
      "==================================================\n",
      "100.0% the r program for data science a-z complete diploma 2022 learn all the r skill you need to become a professional and certify r programmer with this complete bootcamp\n",
      "==================================================\n",
      "100.0% r for data science : learn r program in 2 hour enter the world of r program : everything you need to get start with r and data science in just 2 hour !\n",
      "==================================================\n",
      "100.0% practical data science : reduce high dimensional data in r in this r course , we 'll see how pca can reduce a 5000+ variable data set into 10 variable and barely lose accuracy !\n",
      "==================================================\n",
      "100.0% generate and visualize data in python and matlab learn how to simulate and visualize data for data science , statistic , and machine learn in matlab and python\n",
      "==================================================\n",
      "100.0% data science foundation fundamental of data science : learn the tool and technique\n",
      "==================================================\n",
      "100.0% r program : for data science with real exercise learn program in r and r studio . data analytics , data science , statistical analysis , package , function , ggplot2\n",
      "==================================================\n",
      "100.0% statistic for business analytics and data science a-z™ learn the core stats for a data science career . master statistical significance , confidence interval and much more !\n",
      "==================================================\n",
      "100.0% causal data science with direct acyclic graph get to know the modern tool for causal inference from machine learn and ai , with many practical example in r\n",
      "==================================================\n",
      "Topic 2\n",
      "100.0% web development essential ( beginner to intermediate ) learn to apply the web development concept .\n",
      "==================================================\n",
      "100.0% build a weather app with python and django learn api driven web development with django and python !\n",
      "==================================================\n",
      "100.0% cs , bootstrap , javascript , web development course learn web development complete course , cs , bootstrap and javascript complete web development stack course 2022\n",
      "==================================================\n",
      "100.0% master reactjs : learn react j from scratch master the basic of reactjs and be ready for the future of web development .\n",
      "==================================================\n",
      "100.0% learn bootstrap 4 responsive web development learn how to create responsive website use bootstrap\n",
      "==================================================\n",
      "100.0% react j web development - the essential bootcamp update for 2022-23 : react.js essential bootcamp - react core , router , redux , hook , in-depth j , + detailed guide !\n",
      "==================================================\n",
      "100.0% html5 ultimate guide html5 for web development : quickly master html5 by building a project from scratch\n",
      "==================================================\n",
      "100.0% web development - css3 - scratch till advanced project base complete cs 3 course from basic till advanced like gradient , animation , mediaqueries so on . include a project also .\n",
      "==================================================\n",
      "100.0% the complete nft web development course - zero to expert learn how to build an nft marketplace - solidity and react - truffle + web3 for nfts ( non-fungible-tokens ) - blockchain\n",
      "==================================================\n",
      "100.0% html - introduction to html web development learn html and master the building block of html web development\n",
      "==================================================\n",
      "Topic 3\n",
      "100.0% project in machine learn : beginner to professional a complete guide to master machine learn concept and create real world ml solution\n",
      "==================================================\n",
      "100.0% restful web api - the complete guide ( .net7 api ) build restful web api ( c # ) with authentication and learn how to consume them in a real world application ( .net 7 api )\n",
      "==================================================\n",
      "97.7% laravel 2019 , the complete guide with real world project build simple to advanced web application use the php 's most popular web framework - completely re-recorded for 5.8\n",
      "==================================================\n",
      "100.0% build responsive real world website with css3 v2.0 learn css3 flexbox , css3 animation , transition , transformation and responsive web design . make beautiful website !\n",
      "==================================================\n",
      "100.0% bash script and shell program ( linux command line ) learn bash program for linux , unix , & mac . learn how to write bash script like a pro & solve real-world problem !\n",
      "==================================================\n",
      "100.0% master firebase for io use swift language learn to integrate firebase with your io apps by building real world project !\n",
      "==================================================\n",
      "100.0% machine learn for beginner with 6 real world project learn machine learn to create powerful ai for real-world application ! for kid and beginner , parent and teacher !\n",
      "==================================================\n",
      "100.0% reactjs and flux : learn by building 10 project get the real world experience by building professional project in react and flux\n",
      "==================================================\n",
      "100.0% natural language processing for text summarization learn core concept of machine learn . apply ml technique to real-world problem and develop ai/ml base application\n",
      "==================================================\n",
      "100.0% the sas course ! learn sas for real-world website no b.s . guide to learn sas , improve your workflow and style time-saving , clean website\n",
      "==================================================\n"
     ]
    }
   ],
   "source": [
    "get_top_documents_for_each_topic(W, df['title_description'].tolist(), num_docs=10)"
   ]
  },
  {
   "cell_type": "code",
   "execution_count": 23,
   "id": "dca6bd39",
   "metadata": {},
   "outputs": [],
   "source": [
    "def get_top_documents_into_dataframe(W: np.array, documents: List[str], num_docs: int = 10):\n",
    "    NMF_df = pd.DataFrame()\n",
    "    topics = []\n",
    "    docs = []\n",
    "    sorted_docs = W.argsort(axis=0)[::-1]\n",
    "    top_docs = sorted_docs[:num_docs].T\n",
    "    for topic, top_documents_for_topic in enumerate(top_docs):\n",
    "        for doc in top_documents_for_topic:\n",
    "            topics.append(topic)\n",
    "            docs.append(description[doc])\n",
    "    NMF_df['topic'] = topics\n",
    "    NMF_df['title_description'] = docs\n",
    "    \n",
    "    return NMF_df"
   ]
  },
  {
   "cell_type": "markdown",
   "id": "d1a3495e",
   "metadata": {},
   "source": [
    "Choose top 20 course in each topics"
   ]
  },
  {
   "cell_type": "code",
   "execution_count": 24,
   "id": "de0ed43c",
   "metadata": {},
   "outputs": [
    {
     "data": {
      "text/html": [
       "<div>\n",
       "<style scoped>\n",
       "    .dataframe tbody tr th:only-of-type {\n",
       "        vertical-align: middle;\n",
       "    }\n",
       "\n",
       "    .dataframe tbody tr th {\n",
       "        vertical-align: top;\n",
       "    }\n",
       "\n",
       "    .dataframe thead th {\n",
       "        text-align: right;\n",
       "    }\n",
       "</style>\n",
       "<table border=\"1\" class=\"dataframe\">\n",
       "  <thead>\n",
       "    <tr style=\"text-align: right;\">\n",
       "      <th></th>\n",
       "      <th>topic</th>\n",
       "      <th>title_description</th>\n",
       "    </tr>\n",
       "  </thead>\n",
       "  <tbody>\n",
       "    <tr>\n",
       "      <th>0</th>\n",
       "      <td>0</td>\n",
       "      <td>gitting start : step-by-step git and github cr...</td>\n",
       "    </tr>\n",
       "    <tr>\n",
       "      <th>1</th>\n",
       "      <td>0</td>\n",
       "      <td>sap smart form for beginner learn smartforms s...</td>\n",
       "    </tr>\n",
       "    <tr>\n",
       "      <th>2</th>\n",
       "      <td>0</td>\n",
       "      <td>17 beginner c # walkthrough project step by st...</td>\n",
       "    </tr>\n",
       "    <tr>\n",
       "      <th>3</th>\n",
       "      <td>0</td>\n",
       "      <td>python exercise for beginner : solve 100+ cod ...</td>\n",
       "    </tr>\n",
       "    <tr>\n",
       "      <th>4</th>\n",
       "      <td>0</td>\n",
       "      <td>build an api from scratch with python , django...</td>\n",
       "    </tr>\n",
       "    <tr>\n",
       "      <th>...</th>\n",
       "      <td>...</td>\n",
       "      <td>...</td>\n",
       "    </tr>\n",
       "    <tr>\n",
       "      <th>75</th>\n",
       "      <td>3</td>\n",
       "      <td>apply machine learn for healthcare learn to im...</td>\n",
       "    </tr>\n",
       "    <tr>\n",
       "      <th>76</th>\n",
       "      <td>3</td>\n",
       "      <td>azure data factory real world project end to e...</td>\n",
       "    </tr>\n",
       "    <tr>\n",
       "      <th>77</th>\n",
       "      <td>3</td>\n",
       "      <td>materialize cs from scratch with 5 project mas...</td>\n",
       "    </tr>\n",
       "    <tr>\n",
       "      <th>78</th>\n",
       "      <td>3</td>\n",
       "      <td>angular 14 - beginner practical guide [ 2022 ]...</td>\n",
       "    </tr>\n",
       "    <tr>\n",
       "      <th>79</th>\n",
       "      <td>3</td>\n",
       "      <td>learn html5 in-depth - with real-world example...</td>\n",
       "    </tr>\n",
       "  </tbody>\n",
       "</table>\n",
       "<p>80 rows × 2 columns</p>\n",
       "</div>"
      ],
      "text/plain": [
       "    topic                                  title_description\n",
       "0       0  gitting start : step-by-step git and github cr...\n",
       "1       0  sap smart form for beginner learn smartforms s...\n",
       "2       0  17 beginner c # walkthrough project step by st...\n",
       "3       0  python exercise for beginner : solve 100+ cod ...\n",
       "4       0  build an api from scratch with python , django...\n",
       "..    ...                                                ...\n",
       "75      3  apply machine learn for healthcare learn to im...\n",
       "76      3  azure data factory real world project end to e...\n",
       "77      3  materialize cs from scratch with 5 project mas...\n",
       "78      3  angular 14 - beginner practical guide [ 2022 ]...\n",
       "79      3  learn html5 in-depth - with real-world example...\n",
       "\n",
       "[80 rows x 2 columns]"
      ]
     },
     "execution_count": 24,
     "metadata": {},
     "output_type": "execute_result"
    }
   ],
   "source": [
    "documents = df['title_description'].tolist()\n",
    "NMF_df = get_top_documents_into_dataframe(W, documents, 20)\n",
    "NMF_df"
   ]
  },
  {
   "cell_type": "code",
   "execution_count": 25,
   "id": "7bcf555c",
   "metadata": {},
   "outputs": [
    {
     "data": {
      "text/html": [
       "<div>\n",
       "<style scoped>\n",
       "    .dataframe tbody tr th:only-of-type {\n",
       "        vertical-align: middle;\n",
       "    }\n",
       "\n",
       "    .dataframe tbody tr th {\n",
       "        vertical-align: top;\n",
       "    }\n",
       "\n",
       "    .dataframe thead th {\n",
       "        text-align: right;\n",
       "    }\n",
       "</style>\n",
       "<table border=\"1\" class=\"dataframe\">\n",
       "  <thead>\n",
       "    <tr style=\"text-align: right;\">\n",
       "      <th></th>\n",
       "      <th>topic</th>\n",
       "      <th>title_description</th>\n",
       "      <th>course_name</th>\n",
       "      <th>course description</th>\n",
       "      <th>reviews_avg</th>\n",
       "      <th>reviews_count</th>\n",
       "      <th>course_duration</th>\n",
       "      <th>lectures_count</th>\n",
       "      <th>price_after_discount</th>\n",
       "      <th>main_price</th>\n",
       "      <th>...</th>\n",
       "      <th>Laurence Svekis</th>\n",
       "      <th>Eduonix Learning Solutions, Eduonix-Tech .</th>\n",
       "      <th>Infinite Skills</th>\n",
       "      <th>YouAccel Training</th>\n",
       "      <th>Oak Academy</th>\n",
       "      <th>Loony Corn</th>\n",
       "      <th>Stephen Grider</th>\n",
       "      <th>John Elder</th>\n",
       "      <th>Stone River eLearning</th>\n",
       "      <th>new_title_desc</th>\n",
       "    </tr>\n",
       "  </thead>\n",
       "  <tbody>\n",
       "    <tr>\n",
       "      <th>0</th>\n",
       "      <td>0</td>\n",
       "      <td>gitting start : step-by-step git and github cr...</td>\n",
       "      <td>Gitting Started: Step-by-Step Git and Github C...</td>\n",
       "      <td>Git started now with a hands-on guide to learn...</td>\n",
       "      <td>4.85</td>\n",
       "      <td>384.0</td>\n",
       "      <td>2.5</td>\n",
       "      <td>38.0</td>\n",
       "      <td>269.99</td>\n",
       "      <td>449.99</td>\n",
       "      <td>...</td>\n",
       "      <td>0</td>\n",
       "      <td>0</td>\n",
       "      <td>0</td>\n",
       "      <td>0</td>\n",
       "      <td>0</td>\n",
       "      <td>0</td>\n",
       "      <td>0</td>\n",
       "      <td>0</td>\n",
       "      <td>0</td>\n",
       "      <td>gitting start : _beginner_-by-_beginner_ git a...</td>\n",
       "    </tr>\n",
       "    <tr>\n",
       "      <th>1</th>\n",
       "      <td>0</td>\n",
       "      <td>sap smart form for beginner learn smartforms s...</td>\n",
       "      <td>SAP Smart Forms for beginners</td>\n",
       "      <td>Learn SmartForms step by step (Hands-on approa...</td>\n",
       "      <td>4.45</td>\n",
       "      <td>628.0</td>\n",
       "      <td>4.5</td>\n",
       "      <td>34.0</td>\n",
       "      <td>199.99</td>\n",
       "      <td>229.99</td>\n",
       "      <td>...</td>\n",
       "      <td>0</td>\n",
       "      <td>0</td>\n",
       "      <td>0</td>\n",
       "      <td>0</td>\n",
       "      <td>0</td>\n",
       "      <td>0</td>\n",
       "      <td>0</td>\n",
       "      <td>0</td>\n",
       "      <td>0</td>\n",
       "      <td>sap smart form for _beginner_  smartforms _beg...</td>\n",
       "    </tr>\n",
       "  </tbody>\n",
       "</table>\n",
       "<p>2 rows × 24 columns</p>\n",
       "</div>"
      ],
      "text/plain": [
       "   topic                                  title_description  \\\n",
       "0      0  gitting start : step-by-step git and github cr...   \n",
       "1      0  sap smart form for beginner learn smartforms s...   \n",
       "\n",
       "                                         course_name  \\\n",
       "0  Gitting Started: Step-by-Step Git and Github C...   \n",
       "1                      SAP Smart Forms for beginners   \n",
       "\n",
       "                                  course description  reviews_avg  \\\n",
       "0  Git started now with a hands-on guide to learn...         4.85   \n",
       "1  Learn SmartForms step by step (Hands-on approa...         4.45   \n",
       "\n",
       "   reviews_count  course_duration  lectures_count  price_after_discount  \\\n",
       "0          384.0              2.5            38.0                269.99   \n",
       "1          628.0              4.5            34.0                199.99   \n",
       "\n",
       "   main_price  ...  Laurence Svekis  \\\n",
       "0      449.99  ...                0   \n",
       "1      229.99  ...                0   \n",
       "\n",
       "  Eduonix Learning Solutions, Eduonix-Tech .  Infinite Skills  \\\n",
       "0                                          0                0   \n",
       "1                                          0                0   \n",
       "\n",
       "   YouAccel Training  Oak Academy  Loony Corn  Stephen Grider  John Elder  \\\n",
       "0                  0            0           0               0           0   \n",
       "1                  0            0           0               0           0   \n",
       "\n",
       "   Stone River eLearning                                     new_title_desc  \n",
       "0                      0  gitting start : _beginner_-by-_beginner_ git a...  \n",
       "1                      0  sap smart form for _beginner_  smartforms _beg...  \n",
       "\n",
       "[2 rows x 24 columns]"
      ]
     },
     "execution_count": 25,
     "metadata": {},
     "output_type": "execute_result"
    }
   ],
   "source": [
    "inner_merged_total = pd.merge(NMF_df, df, how=\"inner\", on=[\"title_description\"])\n",
    "inner_merged_total.head(2)"
   ]
  },
  {
   "cell_type": "code",
   "execution_count": 26,
   "id": "9e9bb5ea",
   "metadata": {},
   "outputs": [
    {
     "data": {
      "text/plain": [
       "Index(['topic', 'title_description', 'course_name', 'course description',\n",
       "       'reviews_avg', 'reviews_count', 'course_duration', 'lectures_count',\n",
       "       'price_after_discount', 'main_price', 'students_count', 'instructor',\n",
       "       'Packt Publishing', 'Bluelime Learning Solutions', 'Laurence Svekis',\n",
       "       'Eduonix Learning Solutions, Eduonix-Tech .', 'Infinite Skills',\n",
       "       'YouAccel Training', 'Oak Academy', 'Loony Corn', 'Stephen Grider',\n",
       "       'John Elder', 'Stone River eLearning', 'new_title_desc'],\n",
       "      dtype='object')"
      ]
     },
     "execution_count": 26,
     "metadata": {},
     "output_type": "execute_result"
    }
   ],
   "source": [
    "inner_merged_total.columns"
   ]
  },
  {
   "cell_type": "code",
   "execution_count": 27,
   "id": "4cd2b01b",
   "metadata": {},
   "outputs": [
    {
     "data": {
      "text/plain": [
       "topic\n",
       "0    4.435000\n",
       "1    4.500000\n",
       "2    4.280000\n",
       "3    4.372727\n",
       "Name: reviews_avg, dtype: float64"
      ]
     },
     "execution_count": 27,
     "metadata": {},
     "output_type": "execute_result"
    }
   ],
   "source": [
    "# Average review score in each topic\n",
    "inner_merged_total.groupby('topic')['reviews_avg'].mean()"
   ]
  },
  {
   "cell_type": "code",
   "execution_count": 28,
   "id": "051fad51",
   "metadata": {},
   "outputs": [
    {
     "data": {
      "text/plain": [
       "topic\n",
       "0    14575.0\n",
       "1    82829.0\n",
       "2    21647.0\n",
       "3    39397.0\n",
       "Name: reviews_count, dtype: float64"
      ]
     },
     "execution_count": 28,
     "metadata": {},
     "output_type": "execute_result"
    }
   ],
   "source": [
    "# Total number of review in each group\n",
    "inner_merged_total.groupby('topic')['reviews_count'].sum()"
   ]
  },
  {
   "cell_type": "code",
   "execution_count": 29,
   "id": "16136ad8",
   "metadata": {},
   "outputs": [
    {
     "data": {
      "text/plain": [
       "topic\n",
       "0    229856.0\n",
       "1    752889.0\n",
       "2    911616.0\n",
       "3    341346.0\n",
       "Name: students_count, dtype: float64"
      ]
     },
     "execution_count": 29,
     "metadata": {},
     "output_type": "execute_result"
    }
   ],
   "source": [
    "# Total number of student in each group\n",
    "inner_merged_total.groupby('topic')['students_count'].sum()"
   ]
  },
  {
   "cell_type": "markdown",
   "id": "edb223d0",
   "metadata": {},
   "source": [
    "From topic modelling result, we can see that Udemy provides 4 types of courses for different customer segments: \n",
    "- The first one is beginning level courses. In this type, there are around 60% of courses put emphasis on step-by-step teaching style. Therefore, these courses are suitable for those customers who don't have background about any topics and would like to learn from basic level.   \n",
    "- The second type is about data science. More than 60% of course descriptions in this topic mention about data science, machine learning and data analysis. Therefore, these courses are suitable for those customers who would like to gain skills such as data manipulation, data visualization, statistical analysis and model building. They can also learn about how to utilize data science such as time series analysis and natural language processing.\n",
    "- The third type is about web development. Beside only mentioning about web development in the description, there are around 25% of courses descriptions mention that they will teach about  coding skills such as html, javascript, and css. These are all important skills for customers who want to learn how to create their own websites.\n",
    "- The last type of course emphasizes on real world application. Some customers would care more about how to apply what they learn to solve real-world problem rather than just learning the skills. Therefore, they would be more willing to take courses whose description contains keyword such as \"real world\", \"application\", \"practical\".\n",
    "\n",
    "\n",
    "In addition, after I dive into details of top 20 courses in each type, I found out that the total number of students in the web development cources are highest compared to other types. However, these courses got the least percentage of reviews. That is to say, only 2% of students gave reviews. And they also got the lowest review score among four types. Therefore, I suggest that Udemy can put more effort on gathering feedbacks from students who take web development courses to understand the biggest pain points. For example, Udemy can send each of them an email to ask about feedback or embed forms inside online course lessons. Replying for all reviews may help as well since it shows how much you care about your customers if you provide a reasonable and polite explanation to negative reviews. Thus, negative reviews will not only help uncover ways to improve courses, but potential customers will also not be discouraged by reading the negative reviews."
   ]
  },
  {
   "cell_type": "markdown",
   "id": "c5f98ccc",
   "metadata": {},
   "source": [
    "# Part II. Emotion Classification (5 pts)\n",
    "\n",
    "Use the `datasets/emotions_dataset.zip` (see the original Dataset source on [Kaggle](https://www.kaggle.com/datasets/praveengovi/emotions-dataset-for-nlp)) to build a classification model that predicts the emotion of sentence. If you would like, you may classify only the top 4 emotions, and group all other classes as `Other`. \n",
    "\n",
    "In order to earn full credit, you must:\n",
    "\n",
    "* Show the performance of your model with `CountVectorizer`, `TfIdfVectorizer`, `word2vec`, and `glove` embeddings.\n",
    "    - for `word2vec`, make sure not to use the `en_core_web_sm` dataset (these are not real embeddings)\n",
    "* Perform text preprocessing (or explain why it was not necessary):\n",
    "    - stopword removal\n",
    "    - ngram tokenization\n",
    "    - stemming/lemmatization\n",
    "    - fuzzy matching / regex cleaning / etc. (as you deem necessary, but show that you analyzed the text to make your decision)\n",
    "* Show **AUROC / F1 scores** for on the holdout (test + validation) datasets.\n",
    "* A brief discussion (2-3 sentences) of what could improve your model and why."
   ]
  },
  {
   "cell_type": "code",
   "execution_count": 30,
   "id": "d038f55b",
   "metadata": {},
   "outputs": [],
   "source": [
    "df_train = pd.read_csv(\"../datasets/emotions/train.txt\", delimiter=';', header=None, names=['sentence','label'])\n",
    "df_test = pd.read_csv(\"../datasets/emotions/test.txt\", delimiter=';', header=None, names=['sentence','label'])\n",
    "df_val = pd.read_csv(\"../datasets/emotions/val.txt\", delimiter=';', header=None, names=['sentence','label'])"
   ]
  },
  {
   "cell_type": "code",
   "execution_count": 31,
   "id": "c193e0a2",
   "metadata": {},
   "outputs": [
    {
     "data": {
      "text/html": [
       "<div>\n",
       "<style scoped>\n",
       "    .dataframe tbody tr th:only-of-type {\n",
       "        vertical-align: middle;\n",
       "    }\n",
       "\n",
       "    .dataframe tbody tr th {\n",
       "        vertical-align: top;\n",
       "    }\n",
       "\n",
       "    .dataframe thead th {\n",
       "        text-align: right;\n",
       "    }\n",
       "</style>\n",
       "<table border=\"1\" class=\"dataframe\">\n",
       "  <thead>\n",
       "    <tr style=\"text-align: right;\">\n",
       "      <th></th>\n",
       "      <th>sentence</th>\n",
       "      <th>label</th>\n",
       "      <th>dataset_type</th>\n",
       "    </tr>\n",
       "  </thead>\n",
       "  <tbody>\n",
       "    <tr>\n",
       "      <th>0</th>\n",
       "      <td>i didnt feel humiliated</td>\n",
       "      <td>sadness</td>\n",
       "      <td>train</td>\n",
       "    </tr>\n",
       "    <tr>\n",
       "      <th>1</th>\n",
       "      <td>i can go from feeling so hopeless to so damned...</td>\n",
       "      <td>sadness</td>\n",
       "      <td>train</td>\n",
       "    </tr>\n",
       "    <tr>\n",
       "      <th>2</th>\n",
       "      <td>im grabbing a minute to post i feel greedy wrong</td>\n",
       "      <td>anger</td>\n",
       "      <td>train</td>\n",
       "    </tr>\n",
       "    <tr>\n",
       "      <th>3</th>\n",
       "      <td>i am ever feeling nostalgic about the fireplac...</td>\n",
       "      <td>love</td>\n",
       "      <td>train</td>\n",
       "    </tr>\n",
       "    <tr>\n",
       "      <th>4</th>\n",
       "      <td>i am feeling grouchy</td>\n",
       "      <td>anger</td>\n",
       "      <td>train</td>\n",
       "    </tr>\n",
       "  </tbody>\n",
       "</table>\n",
       "</div>"
      ],
      "text/plain": [
       "                                            sentence    label dataset_type\n",
       "0                            i didnt feel humiliated  sadness        train\n",
       "1  i can go from feeling so hopeless to so damned...  sadness        train\n",
       "2   im grabbing a minute to post i feel greedy wrong    anger        train\n",
       "3  i am ever feeling nostalgic about the fireplac...     love        train\n",
       "4                               i am feeling grouchy    anger        train"
      ]
     },
     "execution_count": 31,
     "metadata": {},
     "output_type": "execute_result"
    }
   ],
   "source": [
    "df_train[\"dataset_type\"] = \"train\"\n",
    "df_test[\"dataset_type\"] = \"train\"\n",
    "df_val[\"dataset_type\"] = \"test\"\n",
    "df = pd.concat([df_train, df_test, df_val])\n",
    "df.head()"
   ]
  },
  {
   "cell_type": "code",
   "execution_count": 32,
   "id": "04e18e2b",
   "metadata": {
    "scrolled": true
   },
   "outputs": [
    {
     "data": {
      "text/plain": [
       "array(['sadness', 'anger', 'love', 'surprise', 'fear', 'joy'],\n",
       "      dtype=object)"
      ]
     },
     "execution_count": 32,
     "metadata": {},
     "output_type": "execute_result"
    }
   ],
   "source": [
    "df['label'].unique()"
   ]
  },
  {
   "cell_type": "markdown",
   "id": "4a205890",
   "metadata": {},
   "source": [
    "## Decide Rexget target"
   ]
  },
  {
   "cell_type": "code",
   "execution_count": 33,
   "id": "8c666dde",
   "metadata": {
    "scrolled": true
   },
   "outputs": [
    {
     "name": "stdout",
     "output_type": "stream",
     "text": [
      "(20000, 102528)\n"
     ]
    },
    {
     "data": {
      "text/plain": [
       "feel like           2169\n",
       "feeling little       269\n",
       "just feel            239\n",
       "feel little          226\n",
       "feeling like         209\n",
       "make feel            207\n",
       "feeling bit          203\n",
       "href http            195\n",
       "feel really          185\n",
       "feeling pretty       184\n",
       "makes feel           180\n",
       "don feel             163\n",
       "feel bit             162\n",
       "ive feeling          141\n",
       "didnt feel           138\n",
       "dont know            128\n",
       "feel pretty          123\n",
       "feeling really       123\n",
       "help feel            122\n",
       "want feel            122\n",
       "really feel          115\n",
       "left feeling         115\n",
       "feels like           112\n",
       "know feel            111\n",
       "feeling quite         98\n",
       "just feeling          96\n",
       "feel need             95\n",
       "remember feeling      93\n",
       "did feel              90\n",
       "feel passionate       83\n",
       "starting feel         81\n",
       "feel quite            80\n",
       "people feel           78\n",
       "little bit            77\n",
       "feel blessed          75\n",
       "feel way              74\n",
       "dont want             72\n",
       "don know              71\n",
       "feel accepted         70\n",
       "didn feel             70\n",
       "feeling generous      69\n",
       "like ive              66\n",
       "http www              66\n",
       "feel helpless         63\n",
       "feel bad              62\n",
       "like just             61\n",
       "started feeling       60\n",
       "feel strange          60\n",
       "time feel             60\n",
       "feel weird            58\n",
       "dtype: int64"
      ]
     },
     "execution_count": 33,
     "metadata": {},
     "output_type": "execute_result"
    }
   ],
   "source": [
    "sen = df['sentence'].tolist()\n",
    "sen_vec = Countvec(words=sen, Ngram=(2,2), token_pattern=r'[a-zA-Z]{3,}')\n",
    "sen_vec.sum().sort_values(ascending=False)[:50]"
   ]
  },
  {
   "cell_type": "code",
   "execution_count": 34,
   "id": "6e954976",
   "metadata": {},
   "outputs": [],
   "source": [
    "def word_replace_part2(line):\n",
    "    line = line.lower()\n",
    "    line = re.sub(r'\\b(feel((ing)?|s?)|like)\\b', '', line)\n",
    "    line = re.sub(r'\\b(href|https?|https:|www|just|im|ive)\\b', '', line)\n",
    "    return line"
   ]
  },
  {
   "cell_type": "code",
   "execution_count": 35,
   "id": "cf9de13b",
   "metadata": {},
   "outputs": [],
   "source": [
    "df['sentence'] = df['sentence'].apply(lambda x: word_replace_part2(x))"
   ]
  },
  {
   "cell_type": "markdown",
   "id": "838c0be6",
   "metadata": {},
   "source": [
    "## CountVectorizer & TF-ITF"
   ]
  },
  {
   "cell_type": "code",
   "execution_count": 36,
   "id": "01b490c0",
   "metadata": {},
   "outputs": [],
   "source": [
    "def Vectorize(Vectorization, Ngram, text, min_df=0.005, max_df=0.5):\n",
    "    if Vectorization == 'COUNT':\n",
    "        vectorizer = CountVectorizer(stop_words = 'english', ngram_range=Ngram, min_df=min_df, max_df=max_df)\n",
    "        X = vectorizer.fit_transform(text)\n",
    "        Count = pd.DataFrame(X.toarray(), columns=vectorizer.get_feature_names())\n",
    "        \n",
    "        return Count\n",
    "        \n",
    "    elif Vectorization == 'TFIDF':\n",
    "        vectorizer = TfidfVectorizer(stop_words = 'english', ngram_range=Ngram, min_df=min_df, max_df=max_df)\n",
    "        corpus = list(text.values)\n",
    "        X = vectorizer.fit_transform(corpus)\n",
    "        terms = vectorizer.get_feature_names()\n",
    "        tf_idf = pd.DataFrame(X.toarray(), columns=terms)\n",
    "        \n",
    "        return tf_idf"
   ]
  },
  {
   "cell_type": "code",
   "execution_count": 37,
   "id": "b8a76452",
   "metadata": {},
   "outputs": [],
   "source": [
    "def train_test_vec(df, Vectorization, Ngram, min_df=0.005, max_df=0.5):\n",
    "    vec_df = Vectorize(Vectorization, Ngram, df['sentence'])\n",
    "    train = df[df[\"dataset_type\"] == 'train']\n",
    "    test = df[df[\"dataset_type\"] == 'test']\n",
    "    X_train = vec_df.loc[:17999, :]\n",
    "    y_train = train[\"label\"]\n",
    "    X_test = vec_df.loc[18000:, :]\n",
    "    y_test = test[\"label\"]\n",
    "    \n",
    "    ohe = OneHotEncoder()\n",
    "    ohe.fit_transform(np.array(y_train).reshape(1, -1))\n",
    "    ohe.fit_transform(np.array(y_test).reshape(1, -1))\n",
    "\n",
    "    return X_train, X_test, y_train, y_test"
   ]
  },
  {
   "cell_type": "markdown",
   "id": "80cbefea",
   "metadata": {},
   "source": [
    "### Stemming"
   ]
  },
  {
   "cell_type": "code",
   "execution_count": 38,
   "id": "5ea038bb",
   "metadata": {},
   "outputs": [],
   "source": [
    "def stemming(text):\n",
    "    stemmer = PorterStemmer()\n",
    "    word_tokens = nltk.word_tokenize(text)\n",
    "    word_tokens = [stemmer.stem(t) for t in word_tokens]  \n",
    "    cleaned_review = \" \".join(word_tokens)\n",
    "        \n",
    "    return cleaned_review"
   ]
  },
  {
   "cell_type": "code",
   "execution_count": 39,
   "id": "5e2267da",
   "metadata": {},
   "outputs": [],
   "source": [
    "df_stem = df.copy()"
   ]
  },
  {
   "cell_type": "code",
   "execution_count": 40,
   "id": "c3c73bfa",
   "metadata": {},
   "outputs": [],
   "source": [
    "df_stem['sentence'] = df_stem['sentence'].apply(lambda x: stemming(x))"
   ]
  },
  {
   "cell_type": "markdown",
   "id": "a14d3098",
   "metadata": {},
   "source": [
    "CountVectorizer, Ngram = (1, 1)"
   ]
  },
  {
   "cell_type": "code",
   "execution_count": 41,
   "id": "0dbcdfea",
   "metadata": {},
   "outputs": [],
   "source": [
    "X_train, X_test, y_train, y_test = train_test_vec(df_stem, Vectorization = 'COUNT', Ngram = (1, 1))"
   ]
  },
  {
   "cell_type": "code",
   "execution_count": 42,
   "id": "b99271ac",
   "metadata": {},
   "outputs": [
    {
     "data": {
      "text/plain": [
       "LogisticRegression(max_iter=1000)"
      ]
     },
     "execution_count": 42,
     "metadata": {},
     "output_type": "execute_result"
    }
   ],
   "source": [
    "# Logistic Regression\n",
    "log = LogisticRegression(max_iter=1000)\n",
    "log.fit(X_train, y_train)"
   ]
  },
  {
   "cell_type": "code",
   "execution_count": 43,
   "id": "9d0a36da",
   "metadata": {},
   "outputs": [],
   "source": [
    "def get_accuracy(model, X_train, X_test, y_train, y_test):\n",
    "    training_predictions = model.predict(X_train)\n",
    "    test_predictions = model.predict(X_test)\n",
    "    print('training accuracy:', accuracy_score(y_train, training_predictions))\n",
    "    print('test accuracy:', accuracy_score(y_test, test_predictions))     "
   ]
  },
  {
   "cell_type": "code",
   "execution_count": 44,
   "id": "a54848c4",
   "metadata": {},
   "outputs": [],
   "source": [
    "def get_ROCAUC_f1(model, X_train, X_test, y_train, y_test):\n",
    "    training_predictions = model.predict(X_train)\n",
    "    test_predictions = model.predict(X_test)\n",
    "\n",
    "    print('test classification report:')\n",
    "    print(classification_report(y_test, test_predictions))\n",
    "    \n",
    "    test_predictions = OneHotEncoder().fit_transform(test_predictions.reshape(-1, 1)).toarray()\n",
    "    print('')\n",
    "    print('test ROCAUC score:', roc_auc_score(y_test, test_predictions, multi_class='ovo'))"
   ]
  },
  {
   "cell_type": "code",
   "execution_count": 45,
   "id": "9efc43e5",
   "metadata": {},
   "outputs": [
    {
     "name": "stdout",
     "output_type": "stream",
     "text": [
      "training accuracy: 0.5277222222222222\n",
      "test accuracy: 0.5005\n"
     ]
    }
   ],
   "source": [
    "get_accuracy(log, X_train, X_test, y_train, y_test)"
   ]
  },
  {
   "cell_type": "code",
   "execution_count": 46,
   "id": "64a23307",
   "metadata": {},
   "outputs": [
    {
     "name": "stdout",
     "output_type": "stream",
     "text": [
      "test classification report:\n",
      "              precision    recall  f1-score   support\n",
      "\n",
      "       anger       0.59      0.25      0.35       275\n",
      "        fear       0.48      0.25      0.33       212\n",
      "         joy       0.53      0.71      0.61       704\n",
      "        love       0.48      0.24      0.32       178\n",
      "     sadness       0.45      0.57      0.50       550\n",
      "    surprise       0.47      0.26      0.33        81\n",
      "\n",
      "    accuracy                           0.50      2000\n",
      "   macro avg       0.50      0.38      0.41      2000\n",
      "weighted avg       0.51      0.50      0.48      2000\n",
      "\n",
      "\n",
      "test ROCAUC score: 0.6287594728644657\n"
     ]
    }
   ],
   "source": [
    "get_ROCAUC_f1(log, X_train, X_test, y_train, y_test)"
   ]
  },
  {
   "cell_type": "code",
   "execution_count": 47,
   "id": "d457fc36",
   "metadata": {},
   "outputs": [
    {
     "data": {
      "text/plain": [
       "SVC(C=1, kernel='linear')"
      ]
     },
     "execution_count": 47,
     "metadata": {},
     "output_type": "execute_result"
    }
   ],
   "source": [
    "# SVM\n",
    "svm = SVC(kernel = 'linear', C = 1)\n",
    "svm.fit(X_train, y_train)"
   ]
  },
  {
   "cell_type": "code",
   "execution_count": 48,
   "id": "d9bd1e7a",
   "metadata": {},
   "outputs": [
    {
     "name": "stdout",
     "output_type": "stream",
     "text": [
      "training accuracy: 0.5306111111111111\n",
      "test accuracy: 0.501\n"
     ]
    }
   ],
   "source": [
    "get_accuracy(svm, X_train, X_test, y_train, y_test)"
   ]
  },
  {
   "cell_type": "code",
   "execution_count": 49,
   "id": "b3c0a34e",
   "metadata": {},
   "outputs": [
    {
     "name": "stdout",
     "output_type": "stream",
     "text": [
      "test classification report:\n",
      "              precision    recall  f1-score   support\n",
      "\n",
      "       anger       0.64      0.26      0.37       275\n",
      "        fear       0.51      0.25      0.34       212\n",
      "         joy       0.60      0.58      0.59       704\n",
      "        love       0.48      0.31      0.38       178\n",
      "     sadness       0.41      0.70      0.52       550\n",
      "    surprise       0.62      0.30      0.40        81\n",
      "\n",
      "    accuracy                           0.50      2000\n",
      "   macro avg       0.54      0.40      0.43      2000\n",
      "weighted avg       0.53      0.50      0.49      2000\n",
      "\n",
      "\n",
      "test ROCAUC score: 0.6407842950564223\n"
     ]
    }
   ],
   "source": [
    "get_ROCAUC_f1(svm, X_train, X_test, y_train, y_test)"
   ]
  },
  {
   "cell_type": "markdown",
   "id": "70f3a2fb",
   "metadata": {},
   "source": [
    "CountVectorizer, Ngram = (2, 2)"
   ]
  },
  {
   "cell_type": "code",
   "execution_count": 50,
   "id": "9269ce3d",
   "metadata": {},
   "outputs": [],
   "source": [
    "X_train, X_test, y_train, y_test = train_test_vec(df_stem, Vectorization = 'COUNT', Ngram = (2, 2))"
   ]
  },
  {
   "cell_type": "code",
   "execution_count": 51,
   "id": "0411be54",
   "metadata": {},
   "outputs": [
    {
     "data": {
      "text/plain": [
       "LogisticRegression(max_iter=1000)"
      ]
     },
     "execution_count": 51,
     "metadata": {},
     "output_type": "execute_result"
    }
   ],
   "source": [
    "log = LogisticRegression(max_iter=1000)\n",
    "log.fit(X_train, y_train)"
   ]
  },
  {
   "cell_type": "code",
   "execution_count": 52,
   "id": "1dd6f62a",
   "metadata": {},
   "outputs": [
    {
     "name": "stdout",
     "output_type": "stream",
     "text": [
      "training accuracy: 0.3368888888888889\n",
      "test accuracy: 0.349\n"
     ]
    }
   ],
   "source": [
    "get_accuracy(log, X_train, X_test, y_train, y_test)"
   ]
  },
  {
   "cell_type": "markdown",
   "id": "9b05e1da",
   "metadata": {},
   "source": [
    "If we set ngram=(2,2), the performance is worse than (1,1). Therefore, I will only set ngram=(1,1) afterwards."
   ]
  },
  {
   "cell_type": "markdown",
   "id": "6ee07a35",
   "metadata": {},
   "source": [
    "TfIdfVectorizer, Ngram = (1, 1)"
   ]
  },
  {
   "cell_type": "code",
   "execution_count": 53,
   "id": "e67712f8",
   "metadata": {},
   "outputs": [],
   "source": [
    "X_train, X_test, y_train, y_test = train_test_vec(df_stem, Vectorization = 'TFIDF', Ngram = (1, 1))"
   ]
  },
  {
   "cell_type": "code",
   "execution_count": 54,
   "id": "15b3da75",
   "metadata": {},
   "outputs": [
    {
     "data": {
      "text/plain": [
       "LogisticRegression(max_iter=1000)"
      ]
     },
     "execution_count": 54,
     "metadata": {},
     "output_type": "execute_result"
    }
   ],
   "source": [
    "log = LogisticRegression(max_iter=1000)\n",
    "log.fit(X_train, y_train)"
   ]
  },
  {
   "cell_type": "code",
   "execution_count": 55,
   "id": "85c62acf",
   "metadata": {},
   "outputs": [
    {
     "name": "stdout",
     "output_type": "stream",
     "text": [
      "training accuracy: 0.5346666666666666\n",
      "test accuracy: 0.4995\n"
     ]
    }
   ],
   "source": [
    "get_accuracy(log, X_train, X_test, y_train, y_test)"
   ]
  },
  {
   "cell_type": "code",
   "execution_count": 56,
   "id": "cc987036",
   "metadata": {},
   "outputs": [
    {
     "name": "stdout",
     "output_type": "stream",
     "text": [
      "test classification report:\n",
      "              precision    recall  f1-score   support\n",
      "\n",
      "       anger       0.60      0.23      0.34       275\n",
      "        fear       0.50      0.25      0.33       212\n",
      "         joy       0.57      0.64      0.60       704\n",
      "        love       0.48      0.22      0.31       178\n",
      "     sadness       0.43      0.68      0.53       550\n",
      "    surprise       0.49      0.22      0.31        81\n",
      "\n",
      "    accuracy                           0.50      2000\n",
      "   macro avg       0.51      0.37      0.40      2000\n",
      "weighted avg       0.51      0.50      0.48      2000\n",
      "\n",
      "\n",
      "test ROCAUC score: 0.6245178887668288\n"
     ]
    }
   ],
   "source": [
    "get_ROCAUC_f1(log, X_train, X_test, y_train, y_test)"
   ]
  },
  {
   "cell_type": "markdown",
   "id": "a6f71ad7",
   "metadata": {},
   "source": [
    "### Lemmatization"
   ]
  },
  {
   "cell_type": "code",
   "execution_count": 57,
   "id": "ac4a08e1",
   "metadata": {},
   "outputs": [],
   "source": [
    "df_lem = df.copy()"
   ]
  },
  {
   "cell_type": "code",
   "execution_count": 58,
   "id": "cc1bd2c4",
   "metadata": {},
   "outputs": [],
   "source": [
    "df_lem['sentence'] = df_lem['sentence'].apply(lambda x: lem(x))"
   ]
  },
  {
   "cell_type": "markdown",
   "id": "81bc125c",
   "metadata": {},
   "source": [
    "CountVectorizer, Ngram = (1, 1)"
   ]
  },
  {
   "cell_type": "code",
   "execution_count": 59,
   "id": "812c78ff",
   "metadata": {},
   "outputs": [],
   "source": [
    "X_train, X_test, y_train, y_test = train_test_vec(df_stem, Vectorization = 'COUNT', Ngram = (1, 1))"
   ]
  },
  {
   "cell_type": "code",
   "execution_count": 60,
   "id": "42f53c66",
   "metadata": {},
   "outputs": [
    {
     "data": {
      "text/plain": [
       "LogisticRegression(max_iter=1000)"
      ]
     },
     "execution_count": 60,
     "metadata": {},
     "output_type": "execute_result"
    }
   ],
   "source": [
    "log = LogisticRegression(max_iter=1000)\n",
    "log.fit(X_train, y_train)"
   ]
  },
  {
   "cell_type": "code",
   "execution_count": 61,
   "id": "480aa900",
   "metadata": {},
   "outputs": [
    {
     "name": "stdout",
     "output_type": "stream",
     "text": [
      "training accuracy: 0.5277222222222222\n",
      "test accuracy: 0.5005\n"
     ]
    }
   ],
   "source": [
    "get_accuracy(log, X_train, X_test, y_train, y_test)"
   ]
  },
  {
   "cell_type": "code",
   "execution_count": 62,
   "id": "bdf6d69e",
   "metadata": {},
   "outputs": [
    {
     "name": "stdout",
     "output_type": "stream",
     "text": [
      "test classification report:\n",
      "              precision    recall  f1-score   support\n",
      "\n",
      "       anger       0.59      0.25      0.35       275\n",
      "        fear       0.48      0.25      0.33       212\n",
      "         joy       0.53      0.71      0.61       704\n",
      "        love       0.48      0.24      0.32       178\n",
      "     sadness       0.45      0.57      0.50       550\n",
      "    surprise       0.47      0.26      0.33        81\n",
      "\n",
      "    accuracy                           0.50      2000\n",
      "   macro avg       0.50      0.38      0.41      2000\n",
      "weighted avg       0.51      0.50      0.48      2000\n",
      "\n",
      "\n",
      "test ROCAUC score: 0.6287594728644657\n"
     ]
    }
   ],
   "source": [
    "get_ROCAUC_f1(log, X_train, X_test, y_train, y_test)"
   ]
  },
  {
   "cell_type": "markdown",
   "id": "7ae0383f",
   "metadata": {},
   "source": [
    "TfIdfVectorizer, Ngram = (1, 1)"
   ]
  },
  {
   "cell_type": "code",
   "execution_count": 63,
   "id": "2f3e6433",
   "metadata": {},
   "outputs": [],
   "source": [
    "X_train, X_test, y_train, y_test = train_test_vec(df_stem, Vectorization = 'TFIDF', Ngram = (1, 1))"
   ]
  },
  {
   "cell_type": "code",
   "execution_count": 64,
   "id": "389ae59b",
   "metadata": {},
   "outputs": [
    {
     "data": {
      "text/plain": [
       "LogisticRegression(max_iter=1000)"
      ]
     },
     "execution_count": 64,
     "metadata": {},
     "output_type": "execute_result"
    }
   ],
   "source": [
    "log = LogisticRegression(max_iter=1000)\n",
    "log.fit(X_train, y_train)"
   ]
  },
  {
   "cell_type": "code",
   "execution_count": 65,
   "id": "4dcefbda",
   "metadata": {},
   "outputs": [
    {
     "name": "stdout",
     "output_type": "stream",
     "text": [
      "training accuracy: 0.5346666666666666\n",
      "test accuracy: 0.4995\n"
     ]
    }
   ],
   "source": [
    "get_accuracy(log, X_train, X_test, y_train, y_test)"
   ]
  },
  {
   "cell_type": "code",
   "execution_count": 66,
   "id": "4038fdda",
   "metadata": {},
   "outputs": [
    {
     "name": "stdout",
     "output_type": "stream",
     "text": [
      "test classification report:\n",
      "              precision    recall  f1-score   support\n",
      "\n",
      "       anger       0.60      0.23      0.34       275\n",
      "        fear       0.50      0.25      0.33       212\n",
      "         joy       0.57      0.64      0.60       704\n",
      "        love       0.48      0.22      0.31       178\n",
      "     sadness       0.43      0.68      0.53       550\n",
      "    surprise       0.49      0.22      0.31        81\n",
      "\n",
      "    accuracy                           0.50      2000\n",
      "   macro avg       0.51      0.37      0.40      2000\n",
      "weighted avg       0.51      0.50      0.48      2000\n",
      "\n",
      "\n",
      "test ROCAUC score: 0.6245178887668288\n"
     ]
    }
   ],
   "source": [
    "get_ROCAUC_f1(log, X_train, X_test, y_train, y_test)"
   ]
  },
  {
   "cell_type": "markdown",
   "id": "dc79eb27",
   "metadata": {},
   "source": [
    "## 2wordvec"
   ]
  },
  {
   "cell_type": "code",
   "execution_count": 67,
   "id": "665f2b55",
   "metadata": {},
   "outputs": [],
   "source": [
    "df_2word = df.copy()"
   ]
  },
  {
   "cell_type": "code",
   "execution_count": 68,
   "id": "9409dd25",
   "metadata": {},
   "outputs": [],
   "source": [
    "# load the language model, but we disable the ner (named entity recognition) and parser (dependency parser)\n",
    "# since we don't need them for our use case to speed things up\n",
    "nlp = spacy.load('en_core_web_md', disable = ['ner', 'parser'])"
   ]
  },
  {
   "cell_type": "code",
   "execution_count": 69,
   "id": "239fd9d6",
   "metadata": {},
   "outputs": [],
   "source": [
    "def process_text(text):\n",
    "    \"\"\"\n",
    "    This function will use Spacy to perform stopword removal and lemmatization.\n",
    "    \"\"\"\n",
    "    doc = nlp(text)\n",
    "    processed_text = \" \".join([token.lemma_ for token in doc if not token.is_stop])\n",
    "    # this will get the word2vec embeddings for the processed text \n",
    "    # (the average of each token in the doc's word2vec embeddings)\n",
    "    return np.array(nlp(processed_text).vector)"
   ]
  },
  {
   "cell_type": "code",
   "execution_count": 70,
   "id": "c253d51d",
   "metadata": {},
   "outputs": [],
   "source": [
    "df_2word[\"vectors\"] = df_2word.sentence.apply(process_text)"
   ]
  },
  {
   "cell_type": "code",
   "execution_count": 71,
   "id": "9b7dd9f6",
   "metadata": {},
   "outputs": [
    {
     "data": {
      "text/plain": [
       "0       [-2.4662, 3.17951, -2.4262333, 0.4203433, 0.96...\n",
       "1       [0.68306357, 2.1139503, -0.7887706, -1.3781472...\n",
       "2       [0.1790057, 0.23212998, -0.13869858, -0.215511...\n",
       "3       [-1.293602, -0.37806198, -1.14107, -2.05672, 0...\n",
       "4       [-2.3366, -3.68105, 0.130635, 1.26235, 2.42735...\n",
       "                              ...                        \n",
       "1995    [0.2973494, 1.2516923, 0.22463411, 0.84789705,...\n",
       "1996    [-0.058069196, 1.2074139, -2.9435894, 1.047504...\n",
       "1997    [1.5450816, -0.47757176, -1.9738317, -1.599271...\n",
       "1998    [0.38225588, 2.0206482, -2.6140335, -2.5816183...\n",
       "1999    [-1.4125922, 0.21994796, -2.5792959, -1.27465,...\n",
       "Name: vectors, Length: 20000, dtype: object"
      ]
     },
     "execution_count": 71,
     "metadata": {},
     "output_type": "execute_result"
    }
   ],
   "source": [
    "# It's word2vec embeddings\n",
    "df_2word[\"vectors\"]"
   ]
  },
  {
   "cell_type": "code",
   "execution_count": 72,
   "id": "f40acfcb",
   "metadata": {},
   "outputs": [],
   "source": [
    "def train_test_2wordvec(df):\n",
    "    train = df[df[\"dataset_type\"] == 'train']\n",
    "    test = df[df[\"dataset_type\"] == 'test']\n",
    "    X_train = np.array([vector for vector in train[\"vectors\"]])\n",
    "    y_train = train[\"label\"]\n",
    "    X_test = np.array([vector for vector in test[\"vectors\"]])\n",
    "    y_test = test[\"label\"]\n",
    "    \n",
    "    ohe = OneHotEncoder()\n",
    "    ohe.fit_transform(np.array(y_train).reshape(1, -1))\n",
    "    ohe.fit_transform(np.array(y_test).reshape(1, -1))\n",
    "\n",
    "    return X_train, X_test, y_train, y_test"
   ]
  },
  {
   "cell_type": "code",
   "execution_count": 73,
   "id": "f132b130",
   "metadata": {},
   "outputs": [],
   "source": [
    "X_train, X_test, y_train, y_test = train_test_2wordvec(df_2word)"
   ]
  },
  {
   "cell_type": "code",
   "execution_count": 74,
   "id": "f74e1c18",
   "metadata": {},
   "outputs": [
    {
     "data": {
      "text/plain": [
       "LogisticRegression(max_iter=1000)"
      ]
     },
     "execution_count": 74,
     "metadata": {},
     "output_type": "execute_result"
    }
   ],
   "source": [
    "log = LogisticRegression(max_iter=1000)\n",
    "log.fit(X_train, y_train)"
   ]
  },
  {
   "cell_type": "code",
   "execution_count": 75,
   "id": "2802365b",
   "metadata": {},
   "outputs": [
    {
     "name": "stdout",
     "output_type": "stream",
     "text": [
      "training accuracy: 0.6543333333333333\n",
      "test accuracy: 0.634\n"
     ]
    }
   ],
   "source": [
    "get_accuracy(log, X_train, X_test, y_train, y_test)"
   ]
  },
  {
   "cell_type": "code",
   "execution_count": 76,
   "id": "4e4d5024",
   "metadata": {},
   "outputs": [
    {
     "name": "stdout",
     "output_type": "stream",
     "text": [
      "test classification report:\n",
      "              precision    recall  f1-score   support\n",
      "\n",
      "       anger       0.61      0.49      0.55       275\n",
      "        fear       0.57      0.47      0.52       212\n",
      "         joy       0.68      0.77      0.72       704\n",
      "        love       0.57      0.41      0.48       178\n",
      "     sadness       0.62      0.71      0.66       550\n",
      "    surprise       0.54      0.36      0.43        81\n",
      "\n",
      "    accuracy                           0.63      2000\n",
      "   macro avg       0.60      0.54      0.56      2000\n",
      "weighted avg       0.63      0.63      0.63      2000\n",
      "\n",
      "\n",
      "test ROCAUC score: 0.7210914709570679\n"
     ]
    }
   ],
   "source": [
    "get_ROCAUC_f1(log, X_train, X_test, y_train, y_test)"
   ]
  },
  {
   "cell_type": "code",
   "execution_count": 77,
   "id": "82d0849a",
   "metadata": {},
   "outputs": [
    {
     "data": {
      "text/plain": [
       "SVC(C=1, kernel='linear')"
      ]
     },
     "execution_count": 77,
     "metadata": {},
     "output_type": "execute_result"
    }
   ],
   "source": [
    "# SVM\n",
    "svm = SVC(kernel = 'linear', C = 1)\n",
    "svm.fit(X_train, y_train)"
   ]
  },
  {
   "cell_type": "code",
   "execution_count": 78,
   "id": "97b93519",
   "metadata": {},
   "outputs": [
    {
     "name": "stdout",
     "output_type": "stream",
     "text": [
      "training accuracy: 0.6721666666666667\n",
      "test accuracy: 0.6355\n"
     ]
    }
   ],
   "source": [
    "get_accuracy(svm, X_train, X_test, y_train, y_test)"
   ]
  },
  {
   "cell_type": "code",
   "execution_count": 79,
   "id": "44ba933f",
   "metadata": {
    "scrolled": true
   },
   "outputs": [
    {
     "name": "stdout",
     "output_type": "stream",
     "text": [
      "test classification report:\n",
      "              precision    recall  f1-score   support\n",
      "\n",
      "       anger       0.57      0.51      0.54       275\n",
      "        fear       0.56      0.47      0.51       212\n",
      "         joy       0.68      0.78      0.73       704\n",
      "        love       0.58      0.40      0.47       178\n",
      "     sadness       0.64      0.69      0.67       550\n",
      "    surprise       0.55      0.37      0.44        81\n",
      "\n",
      "    accuracy                           0.64      2000\n",
      "   macro avg       0.60      0.54      0.56      2000\n",
      "weighted avg       0.63      0.64      0.63      2000\n",
      "\n",
      "\n",
      "test ROCAUC score: 0.7219693816031132\n"
     ]
    }
   ],
   "source": [
    "get_ROCAUC_f1(svm, X_train, X_test, y_train, y_test)"
   ]
  },
  {
   "cell_type": "markdown",
   "id": "38a5d415",
   "metadata": {},
   "source": [
    "What could my model improve:\n",
    "- To get better performance, we could try different supervised learning models and find the best parameters to put into each model using GridSearCV.\n",
    "- Some ‘negative words in the text such as “not” and “n’“t, which are regarded as the stop words. If we remove these stop words, we will reverse the meaning of the sentence. We might need to use sequential models to solve this problem."
   ]
  },
  {
   "cell_type": "code",
   "execution_count": null,
   "id": "d800ca11",
   "metadata": {},
   "outputs": [],
   "source": []
  }
 ],
 "metadata": {
  "kernelspec": {
   "display_name": "Python 3",
   "language": "python",
   "name": "python3"
  },
  "language_info": {
   "codemirror_mode": {
    "name": "ipython",
    "version": 3
   },
   "file_extension": ".py",
   "mimetype": "text/x-python",
   "name": "python",
   "nbconvert_exporter": "python",
   "pygments_lexer": "ipython3",
   "version": "3.7.10"
  }
 },
 "nbformat": 4,
 "nbformat_minor": 5
}
