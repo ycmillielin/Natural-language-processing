{
 "cells": [
  {
   "cell_type": "markdown",
   "id": "48c2f4de",
   "metadata": {},
   "source": [
    "### Please submit the classwork using the format LASTNAME_FIRSTNAME_Classwork 3.ipynb\n",
    "\n",
    "Note: If you are allowed to resubmit, you must do so within 24 hours."
   ]
  },
  {
   "cell_type": "markdown",
   "id": "8c15ecdd",
   "metadata": {},
   "source": [
    "**1. Provide a specific example of a character that requires more than 1 byte to encode. Explain why it takes more than 1 byte to encode, and which encoding scheme would be needed.**"
   ]
  },
  {
   "cell_type": "code",
   "execution_count": null,
   "id": "4831b7fa",
   "metadata": {},
   "outputs": [],
   "source": [
    "# 🦊 requires more than 1 byte to encode since the Decimal for the character 🦊 is larger than 127. \n",
    "# It would need UTF-8 scheme. "
   ]
  },
  {
   "cell_type": "code",
   "execution_count": 3,
   "id": "b786ebdd",
   "metadata": {},
   "outputs": [
    {
     "data": {
      "text/plain": [
       "129418"
      ]
     },
     "execution_count": 3,
     "metadata": {},
     "output_type": "execute_result"
    }
   ],
   "source": [
    "ord(\"🦊\")"
   ]
  },
  {
   "cell_type": "markdown",
   "id": "4c4ac7a7",
   "metadata": {},
   "source": [
    "**2. An inexperienced data scientist runs the following code snippet to train a classification model:**\n",
    "\n",
    "```python\n",
    "import numpy as np\n",
    "\n",
    "import pandas as pd\n",
    "poor = open(\"../datasets/poor_amazon_toy_reviews.txt\").readlines()\n",
    "good = open(\"../datasets/good_amazon_toy_reviews.txt\").readlines()\n",
    "\n",
    "good_reviews = list(map(lambda review: (review, 1), good))\n",
    "poor_reviews = list(map(lambda review: (review, 0), poor))\n",
    "\n",
    "all_reviews = good_reviews + poor_reviews\n",
    "all_reviews_df = pd.DataFrame(all_reviews, columns=[\"review\", \"positive\"])\n",
    "\n",
    "from sklearn.feature_extraction.text import CountVectorizer\n",
    "vectorizer = CountVectorizer()\n",
    "\n",
    "X = vectorizer.fit_transform(all_reviews_df[\"review\"])\n",
    "y = all_reviews_df[\"positive\"].values\n",
    "\n",
    "y_pred = lr.predict(X)\n",
    "\n",
    "# calculate accuracy\n",
    "print(f\"Training accuracy: {np.mean(y_pred == y)}\")\n",
    "```\n",
    "\n",
    "He receives an accuracy of 97% and says this model is production-ready because of how high its accuracy metric is.\n",
    "\n",
    "What are **two specific reasons** this may not be true?"
   ]
  },
  {
   "cell_type": "code",
   "execution_count": null,
   "id": "db60d22c",
   "metadata": {},
   "outputs": [],
   "source": [
    "# Problem1: the original dataset has much more positive reviews than negative reviews (data is biased) \n",
    "# -> It means that if we classify all review as positive, we will still get 89% of accuracy.\n",
    "\n",
    "# Problem2: the code use training set to build the model and use the same dataset to test the accuracy, \n",
    "# this will result in overfitting problem. We should split dataset into training and testing sets, \n",
    "# then use training set to train model and use testing set to test the accuracy"
   ]
  },
  {
   "cell_type": "markdown",
   "id": "743c4379",
   "metadata": {},
   "source": [
    "**3. Calculate the cosine similarities between these three documents, using `CountVectorization`, unigrams, and ignoring all punctuation:**\n",
    "\n",
    "1. I ate pizza with John\n",
    "2. John ate pizza with me.\n",
    "3. I love candy."
   ]
  },
  {
   "cell_type": "code",
   "execution_count": 4,
   "id": "cfaf5349",
   "metadata": {},
   "outputs": [],
   "source": [
    "# Cos(1,2):\t0.80      \n",
    "# Cos(1,3):\t0.25819889      \n",
    "# Cos(2,3):\t0"
   ]
  },
  {
   "cell_type": "markdown",
   "id": "7d8ae82f",
   "metadata": {},
   "source": [
    "**4. You are an analyst for Starbucks, and Calculate using Naive Bayes the probability that a user who comments \"Coffee seems great\" has a positive brand perception of the company's coffee.**\n",
    "\n",
    "* I hate coffee (**NEGATIVE**)\n",
    "* It seems great (**POSITIVE**)\n",
    "* I hate it (**NEGATIVE**)\n",
    "* Coffee is great (**POSITIVE**)\n",
    "* It seems not great (**NEGATIVE**)"
   ]
  },
  {
   "cell_type": "code",
   "execution_count": null,
   "id": "2a5cef42",
   "metadata": {},
   "outputs": [],
   "source": [
    "# The probability that a user who comments \"Coffee seems great\" has a positive brand perception \n",
    "# of the company's coffee is 0.81818182"
   ]
  }
 ],
 "metadata": {
  "kernelspec": {
   "display_name": "Python 3",
   "language": "python",
   "name": "python3"
  },
  "language_info": {
   "codemirror_mode": {
    "name": "ipython",
    "version": 3
   },
   "file_extension": ".py",
   "mimetype": "text/x-python",
   "name": "python",
   "nbconvert_exporter": "python",
   "pygments_lexer": "ipython3",
   "version": "3.7.10"
  }
 },
 "nbformat": 4,
 "nbformat_minor": 5
}
